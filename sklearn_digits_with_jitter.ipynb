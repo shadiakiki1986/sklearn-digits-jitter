{
  "nbformat": 4,
  "nbformat_minor": 0,
  "metadata": {
    "colab": {
      "name": "sklearn digits with jitter.ipynb",
      "provenance": [],
      "collapsed_sections": [],
      "authorship_tag": "ABX9TyMKA/P4oIh9y1WWCHWLVUqm",
      "include_colab_link": true
    },
    "kernelspec": {
      "name": "python3",
      "display_name": "Python 3"
    },
    "language_info": {
      "name": "python"
    }
  },
  "cells": [
    {
      "cell_type": "markdown",
      "metadata": {
        "id": "view-in-github",
        "colab_type": "text"
      },
      "source": [
        "<a href=\"https://colab.research.google.com/github/shadiakiki1986/sklearn-digits-jitter/blob/master/sklearn_digits_with_jitter.ipynb\" target=\"_parent\"><img src=\"https://colab.research.google.com/assets/colab-badge.svg\" alt=\"Open In Colab\"/></a>"
      ]
    },
    {
      "cell_type": "markdown",
      "metadata": {
        "id": "8GaAZFCMWaw4"
      },
      "source": [
        "The digits dataset from sklearn, with jitter\n",
        "\n",
        "- [sklearn load_digits](https://scikit-learn.org/stable/modules/generated/sklearn.datasets.load_digits.html)\n",
        "\n",
        "Published at https://github.com/shadiakiki1986/sklearn-digits-jitter/"
      ]
    },
    {
      "cell_type": "markdown",
      "metadata": {
        "id": "HGkCzTmwXS4o"
      },
      "source": [
        "# get data"
      ]
    },
    {
      "cell_type": "code",
      "metadata": {
        "id": "wxWb-jzbXTdv"
      },
      "source": [
        "from sklearn.datasets import load_digits\n",
        "digits = load_digits()"
      ],
      "execution_count": 1,
      "outputs": []
    },
    {
      "cell_type": "markdown",
      "metadata": {
        "id": "gQSfU4r8bHrg"
      },
      "source": [
        "# pad all the images such that translation doesn't lose info"
      ]
    },
    {
      "cell_type": "code",
      "metadata": {
        "id": "qgPVVFFFXedT"
      },
      "source": [
        "# utility plotting code\n",
        "# From https://www.codespeedy.com/image-augmentation-using-skimage-in-python/\n",
        "#basic Function to display image side by side\n",
        "from matplotlib import pyplot as plt\n",
        "def plot_side(img1, img2, title1, title2, cmap = None):\n",
        "    fig = plt.figure(tight_layout='auto', figsize=(5,5))\n",
        "    fig.add_subplot(221)\n",
        "    plt.title(title1)\n",
        "    plt.imshow(img1, origin=\"lower\")\n",
        "\n",
        "    fig.add_subplot(222)\n",
        "    plt.title(title2)\n",
        "    plt.imshow(img2, cmap = None, origin=\"lower\")\n",
        "    return fig"
      ],
      "execution_count": 2,
      "outputs": []
    },
    {
      "cell_type": "code",
      "metadata": {
        "colab": {
          "base_uri": "https://localhost:8080/"
        },
        "id": "wlPihnDMbKXo",
        "outputId": "a79b6e5e-de18-4b17-b87b-624063671d45"
      },
      "source": [
        "import numpy as np\n",
        "jitter_max = 3\n",
        "digpad = {}\n",
        "digpad[\"images\"] = [np.pad(x, jitter_max, 'constant', constant_values=0) for x in digits.images]\n",
        "\n",
        "digits.images[0].shape, digpad[\"images\"][0].shape"
      ],
      "execution_count": 3,
      "outputs": [
        {
          "output_type": "execute_result",
          "data": {
            "text/plain": [
              "((8, 8), (14, 14))"
            ]
          },
          "metadata": {},
          "execution_count": 3
        }
      ]
    },
    {
      "cell_type": "code",
      "metadata": {
        "colab": {
          "base_uri": "https://localhost:8080/",
          "height": 209
        },
        "id": "PldT3T2cb8u-",
        "outputId": "faee3731-e831-467c-bab8-505ee9bc4869"
      },
      "source": [
        "plot_side(digits.images[0], digpad[\"images\"][0], \"ori\", \"pad\")\n",
        "plt.show()"
      ],
      "execution_count": 4,
      "outputs": [
        {
          "output_type": "display_data",
          "data": {
            "image/png": "[encoded data removed]",
            "text/plain": [
              "<Figure size 360x360 with 2 Axes>"
            ]
          },
          "metadata": {
            "needs_background": "light"
          }
        }
      ]
    },
    {
      "cell_type": "markdown",
      "metadata": {
        "id": "re3xGXhQcEmN"
      },
      "source": [
        "# generate jitter and check that it's balanced"
      ]
    },
    {
      "cell_type": "markdown",
      "metadata": {
        "id": "kwoHtDxifN4J"
      },
      "source": [
        "## (deprecated) method 1: rng.integers: not jointly uniform though"
      ]
    },
    {
      "cell_type": "code",
      "metadata": {
        "colab": {
          "base_uri": "https://localhost:8080/"
        },
        "id": "VmB8bfmdcGw3",
        "outputId": "b83116da-f990-47dd-ee8a-1030bba2c74f"
      },
      "source": [
        "# +1 to be inclusive of the high side\n",
        "rng = np.random.default_rng()\n",
        "size = len(digpad[\"images\"])\n",
        "size*=100 # FIXME increasing sample size to see if issue of not being jointly uniform is fixed\n",
        "jitter_xy = rng.integers(low=-1*jitter_max, high=+1*jitter_max+1, size=(size,2))\n",
        "jitter_xy.shape"
      ],
      "execution_count": 5,
      "outputs": [
        {
          "output_type": "execute_result",
          "data": {
            "text/plain": [
              "(179700, 2)"
            ]
          },
          "metadata": {},
          "execution_count": 5
        }
      ]
    },
    {
      "cell_type": "code",
      "metadata": {
        "colab": {
          "base_uri": "https://localhost:8080/",
          "height": 545
        },
        "id": "ayrk6nsxcj87",
        "outputId": "cfa983f3-4329-40b6-c695-1b90000f1129"
      },
      "source": [
        "plt.hist(jitter_xy[:,0], bins=np.arange(jitter_xy.min(), jitter_xy.max()+1, 1)-.5)\n",
        "plt.title(\"jitter_x\")\n",
        "plt.show()\n",
        "\n",
        "plt.hist(jitter_xy[:,1], bins=np.arange(jitter_xy.min(), jitter_xy.max()+1, 1)-.5)\n",
        "plt.title(\"jitter_y\")\n",
        "plt.show()"
      ],
      "execution_count": 6,
      "outputs": [
        {
          "output_type": "display_data",
          "data": {
            "image/png": "[encoded data removed]",
            "text/plain": [
              "<Figure size 432x288 with 1 Axes>"
            ]
          },
          "metadata": {
            "needs_background": "light"
          }
        },
        {
          "output_type": "display_data",
          "data": {
            "image/png": "[encoded data removed]",
            "text/plain": [
              "<Figure size 432x288 with 1 Axes>"
            ]
          },
          "metadata": {
            "needs_background": "light"
          }
        }
      ]
    },
    {
      "cell_type": "code",
      "metadata": {
        "colab": {
          "base_uri": "https://localhost:8080/",
          "height": 314
        },
        "id": "7LvHZZ1qc4H5",
        "outputId": "6b174e41-271e-4726-8595-df54151d0824"
      },
      "source": [
        "import pandas as pd\n",
        "count_jitter = pd.DataFrame(jitter_xy, columns=[\"x\",\"y\"]).value_counts().unstack()\n",
        "print(f\"min: {count_jitter.min().min()}\")\n",
        "count_jitter - count_jitter.min().min()"
      ],
      "execution_count": 7,
      "outputs": [
        {
          "output_type": "stream",
          "text": [
            "min: 3533\n"
          ],
          "name": "stdout"
        },
        {
          "output_type": "execute_result",
          "data": {
            "text/html": [
              "<div>\n",
              "<style scoped>\n",
              "    .dataframe tbody tr th:only-of-type {\n",
              "        vertical-align: middle;\n",
              "    }\n",
              "\n",
              "    .dataframe tbody tr th {\n",
              "        vertical-align: top;\n",
              "    }\n",
              "\n",
              "    .dataframe thead th {\n",
              "        text-align: right;\n",
              "    }\n",
              "</style>\n",
              "<table border=\"1\" class=\"dataframe\">\n",
              "  <thead>\n",
              "    <tr style=\"text-align: right;\">\n",
              "      <th>y</th>\n",
              "      <th>-3</th>\n",
              "      <th>-2</th>\n",
              "      <th>-1</th>\n",
              "      <th>0</th>\n",
              "      <th>1</th>\n",
              "      <th>2</th>\n",
              "      <th>3</th>\n",
              "    </tr>\n",
              "    <tr>\n",
              "      <th>x</th>\n",
              "      <th></th>\n",
              "      <th></th>\n",
              "      <th></th>\n",
              "      <th></th>\n",
              "      <th></th>\n",
              "      <th></th>\n",
              "      <th></th>\n",
              "    </tr>\n",
              "  </thead>\n",
              "  <tbody>\n",
              "    <tr>\n",
              "      <th>-3</th>\n",
              "      <td>203</td>\n",
              "      <td>169</td>\n",
              "      <td>262</td>\n",
              "      <td>254</td>\n",
              "      <td>67</td>\n",
              "      <td>102</td>\n",
              "      <td>268</td>\n",
              "    </tr>\n",
              "    <tr>\n",
              "      <th>-2</th>\n",
              "      <td>131</td>\n",
              "      <td>138</td>\n",
              "      <td>0</td>\n",
              "      <td>163</td>\n",
              "      <td>125</td>\n",
              "      <td>163</td>\n",
              "      <td>77</td>\n",
              "    </tr>\n",
              "    <tr>\n",
              "      <th>-1</th>\n",
              "      <td>158</td>\n",
              "      <td>167</td>\n",
              "      <td>147</td>\n",
              "      <td>175</td>\n",
              "      <td>129</td>\n",
              "      <td>257</td>\n",
              "      <td>122</td>\n",
              "    </tr>\n",
              "    <tr>\n",
              "      <th>0</th>\n",
              "      <td>98</td>\n",
              "      <td>208</td>\n",
              "      <td>174</td>\n",
              "      <td>188</td>\n",
              "      <td>98</td>\n",
              "      <td>17</td>\n",
              "      <td>139</td>\n",
              "    </tr>\n",
              "    <tr>\n",
              "      <th>1</th>\n",
              "      <td>92</td>\n",
              "      <td>67</td>\n",
              "      <td>105</td>\n",
              "      <td>90</td>\n",
              "      <td>162</td>\n",
              "      <td>110</td>\n",
              "      <td>163</td>\n",
              "    </tr>\n",
              "    <tr>\n",
              "      <th>2</th>\n",
              "      <td>263</td>\n",
              "      <td>38</td>\n",
              "      <td>143</td>\n",
              "      <td>35</td>\n",
              "      <td>7</td>\n",
              "      <td>81</td>\n",
              "      <td>155</td>\n",
              "    </tr>\n",
              "    <tr>\n",
              "      <th>3</th>\n",
              "      <td>159</td>\n",
              "      <td>90</td>\n",
              "      <td>46</td>\n",
              "      <td>53</td>\n",
              "      <td>169</td>\n",
              "      <td>131</td>\n",
              "      <td>225</td>\n",
              "    </tr>\n",
              "  </tbody>\n",
              "</table>\n",
              "</div>"
            ],
            "text/plain": [
              "y    -3   -2   -1    0    1    2    3\n",
              "x                                    \n",
              "-3  203  169  262  254   67  102  268\n",
              "-2  131  138    0  163  125  163   77\n",
              "-1  158  167  147  175  129  257  122\n",
              " 0   98  208  174  188   98   17  139\n",
              " 1   92   67  105   90  162  110  163\n",
              " 2  263   38  143   35    7   81  155\n",
              " 3  159   90   46   53  169  131  225"
            ]
          },
          "metadata": {},
          "execution_count": 7
        }
      ]
    },
    {
      "cell_type": "markdown",
      "metadata": {
        "id": "H7GeAFVvfXBX"
      },
      "source": [
        "For (x,y) = (-3,-3), it is sampled 74 times, a third as much as (1,3) which is sampled 212 times => not balanced"
      ]
    },
    {
      "cell_type": "code",
      "metadata": {
        "id": "_IggLJKTcIbq"
      },
      "source": [
        "del jitter_xy"
      ],
      "execution_count": 8,
      "outputs": []
    },
    {
      "cell_type": "markdown",
      "metadata": {
        "id": "epSHRCOFffFN"
      },
      "source": [
        "## method 2: is jointly uniform"
      ]
    },
    {
      "cell_type": "code",
      "metadata": {
        "id": "Z1-bjfpYoyV5"
      },
      "source": [
        "# util func\n",
        "# overall distribution of jitter x/y pairs\n",
        "import pandas as pd\n",
        "def print_hist(jitter_xy):\n",
        "  print(pd.DataFrame(jitter_xy, columns=[\"x\",\"y\"]).value_counts().unstack())"
      ],
      "execution_count": 9,
      "outputs": []
    },
    {
      "cell_type": "code",
      "metadata": {
        "id": "K8dT54WepkCc"
      },
      "source": [
        "# numpy random number generator\n",
        "rng = np.random.default_rng()"
      ],
      "execution_count": 10,
      "outputs": []
    },
    {
      "cell_type": "markdown",
      "metadata": {
        "id": "WBPwRnXYEz7S"
      },
      "source": [
        "For the end jittering to be balanced overall AND per digit, get the locations of each digit"
      ]
    },
    {
      "cell_type": "code",
      "metadata": {
        "colab": {
          "base_uri": "https://localhost:8080/"
        },
        "id": "z1aEwCsNjeDQ",
        "outputId": "37b14975-1ed1-48d7-eb7b-f7b6420c5282"
      },
      "source": [
        "loc_t = []\n",
        "for t in range(10):\n",
        "  loc_t += np.where(digits.target == t)[0].tolist()\n",
        "\n",
        "len(loc_t)"
      ],
      "execution_count": 11,
      "outputs": [
        {
          "output_type": "execute_result",
          "data": {
            "text/plain": [
              "1797"
            ]
          },
          "metadata": {},
          "execution_count": 11
        }
      ]
    },
    {
      "cell_type": "code",
      "metadata": {
        "colab": {
          "base_uri": "https://localhost:8080/"
        },
        "id": "EG1KCV1CjvKD",
        "outputId": "83213b8e-a86e-4cb6-c450-a085e99fcedd"
      },
      "source": [
        "loc_t[:3], digits.target[[0,10,20]]"
      ],
      "execution_count": 12,
      "outputs": [
        {
          "output_type": "execute_result",
          "data": {
            "text/plain": [
              "([0, 10, 20], array([0, 0, 0]))"
            ]
          },
          "metadata": {},
          "execution_count": 12
        }
      ]
    },
    {
      "cell_type": "code",
      "metadata": {
        "colab": {
          "base_uri": "https://localhost:8080/"
        },
        "id": "uXPpevZ9kGxY",
        "outputId": "5348a671-c8b6-492e-8611-ee3729ded9de"
      },
      "source": [
        "loc_t[200:203], digits.target[[218, 221, 227]]"
      ],
      "execution_count": 13,
      "outputs": [
        {
          "output_type": "execute_result",
          "data": {
            "text/plain": [
              "([218, 221, 227], array([1, 1, 1]))"
            ]
          },
          "metadata": {},
          "execution_count": 13
        }
      ]
    },
    {
      "cell_type": "markdown",
      "metadata": {
        "id": "kqju32W_E9R2"
      },
      "source": [
        "Start calculating jitter"
      ]
    },
    {
      "cell_type": "code",
      "metadata": {
        "colab": {
          "base_uri": "https://localhost:8080/"
        },
        "id": "eAIditZ3fhav",
        "outputId": "5f63de7e-9245-47c6-ac51-dcbff0bdb063"
      },
      "source": [
        "# Option 1:\n",
        "# cartesian product of possible jitter pairs\n",
        "# https://stackoverflow.com/questions/1208118/using-numpy-to-build-an-array-of-all-combinations-of-two-arrays\n",
        "jitter_xy = np.array(np.meshgrid(\n",
        "    range(-1*jitter_max, +1*jitter_max + 1, 1),\n",
        "    range(-1*jitter_max, +1*jitter_max + 1, 1)\n",
        ")).T.reshape((-1,2))\n",
        "assert jitter_xy.shape == (49, 2)\n",
        "\n",
        "\n",
        "# Option 2\n",
        "# Just -1, 0, +1 of jitter_max\n",
        "#jitter_xy = np.array(np.meshgrid(\n",
        "#    [-1*jitter_max, 0, +1*jitter_max],\n",
        "#    [-1*jitter_max, 0, +1*jitter_max]\n",
        "#)).T.reshape((-1,2))\n",
        "#assert jitter_xy.shape == (9, 2)\n",
        "\n",
        "print(jitter_xy.T)"
      ],
      "execution_count": 14,
      "outputs": [
        {
          "output_type": "stream",
          "text": [
            "[[-3 -3 -3 -3 -3 -3 -3 -2 -2 -2 -2 -2 -2 -2 -1 -1 -1 -1 -1 -1 -1  0  0  0\n",
            "   0  0  0  0  1  1  1  1  1  1  1  2  2  2  2  2  2  2  3  3  3  3  3  3\n",
            "   3]\n",
            " [-3 -2 -1  0  1  2  3 -3 -2 -1  0  1  2  3 -3 -2 -1  0  1  2  3 -3 -2 -1\n",
            "   0  1  2  3 -3 -2 -1  0  1  2  3 -3 -2 -1  0  1  2  3 -3 -2 -1  0  1  2\n",
            "   3]]\n"
          ],
          "name": "stdout"
        }
      ]
    },
    {
      "cell_type": "code",
      "metadata": {
        "colab": {
          "base_uri": "https://localhost:8080/"
        },
        "id": "mKuXxVsBo4MV",
        "outputId": "cb5e54ca-2d8d-48cd-95c9-4aaa413aa0aa"
      },
      "source": [
        "print_hist(jitter_xy)"
      ],
      "execution_count": 15,
      "outputs": [
        {
          "output_type": "stream",
          "text": [
            "y   -3  -2  -1   0   1   2   3\n",
            "x                             \n",
            "-3   1   1   1   1   1   1   1\n",
            "-2   1   1   1   1   1   1   1\n",
            "-1   1   1   1   1   1   1   1\n",
            " 0   1   1   1   1   1   1   1\n",
            " 1   1   1   1   1   1   1   1\n",
            " 2   1   1   1   1   1   1   1\n",
            " 3   1   1   1   1   1   1   1\n"
          ],
          "name": "stdout"
        }
      ]
    },
    {
      "cell_type": "code",
      "metadata": {
        "id": "WsTnDl9VnDOv"
      },
      "source": [
        "# Repeat the jitters to get one jitter per entry in the dataset\n",
        "import math\n",
        "ndig = 10\n",
        "jrep = math.ceil(len(digits.images)/ndig/jitter_xy.shape[0])\n",
        "assert jrep == 4 # for range option above\n",
        "#assert jrep == 20 # for edges only\n",
        "# Update: use np.repeat to get -3 -3 -3 -2 -2 -2 ... then np.tile to get -3 -3 -3 -2 -2 -2 ... -3 -3 -3 -2 -2 -2 ...\n",
        "jitter_xy = np.repeat(jitter_xy, jrep, axis=0)\n",
        "jitter_xy = np.tile(jitter_xy.T, ndig).T\n",
        "assert jitter_xy.shape == (1960, 2) # for range option\n",
        "#assert jitter_xy.shape == (1800, 2) # for edges option"
      ],
      "execution_count": 16,
      "outputs": []
    },
    {
      "cell_type": "code",
      "metadata": {
        "colab": {
          "base_uri": "https://localhost:8080/"
        },
        "id": "cOm83UfGo5zp",
        "outputId": "dfd0b818-0142-4b59-c3fa-f4b4e0d4bd0e"
      },
      "source": [
        "print_hist(jitter_xy)"
      ],
      "execution_count": 17,
      "outputs": [
        {
          "output_type": "stream",
          "text": [
            "y   -3  -2  -1   0   1   2   3\n",
            "x                             \n",
            "-3  40  40  40  40  40  40  40\n",
            "-2  40  40  40  40  40  40  40\n",
            "-1  40  40  40  40  40  40  40\n",
            " 0  40  40  40  40  40  40  40\n",
            " 1  40  40  40  40  40  40  40\n",
            " 2  40  40  40  40  40  40  40\n",
            " 3  40  40  40  40  40  40  40\n"
          ],
          "name": "stdout"
        }
      ]
    },
    {
      "cell_type": "code",
      "metadata": {
        "colab": {
          "base_uri": "https://localhost:8080/"
        },
        "id": "1lJbv4vHnQfj",
        "outputId": "41aeb3dc-dc9f-4ebc-8063-f9592727035b"
      },
      "source": [
        "# for range option\n",
        "jitter_xy[:5, :], jitter_xy[4*49-2:4*49+5, :] # , jitter_xy[100:103, :]"
      ],
      "execution_count": 18,
      "outputs": [
        {
          "output_type": "execute_result",
          "data": {
            "text/plain": [
              "(array([[-3, -3],\n",
              "        [-3, -3],\n",
              "        [-3, -3],\n",
              "        [-3, -3],\n",
              "        [-3, -2]]), array([[ 3,  3],\n",
              "        [ 3,  3],\n",
              "        [-3, -3],\n",
              "        [-3, -3],\n",
              "        [-3, -3],\n",
              "        [-3, -3],\n",
              "        [-3, -2]]))"
            ]
          },
          "metadata": {},
          "execution_count": 18
        }
      ]
    },
    {
      "cell_type": "code",
      "metadata": {
        "id": "yUyLb42pnGO-"
      },
      "source": [
        "# randomly drop n jitters where n is the extra number of jitters we have from the repetition\n",
        "jitter_drop = jitter_xy.shape[0] - len(digits.images)\n",
        "assert jitter_drop == 1960 - 1797 # for range option\n",
        "#assert jitter_drop == 1800 - 1797 # for edges option\n",
        "\n",
        "# Note: high is excluded\n",
        "# Update: instead of random integers, which could give the same integer more than once, get random without repetition\n",
        "#jitter_drop = rng.integers(low=0, high=jitter_xy.shape[0], size=jitter_drop).tolist()\n",
        "drop_ind = np.arange(jitter_xy.shape[0])\n",
        "rng.shuffle(drop_ind)\n",
        "jitter_drop = drop_ind[:jitter_drop]\n",
        "assert jitter_drop.shape[0] == len(set(jitter_drop.tolist())) # no dupes\n",
        "\n",
        "jitter_xy = np.delete(jitter_xy, jitter_drop, axis=0)\n",
        "assert jitter_xy.shape == (1797, 2)"
      ],
      "execution_count": 19,
      "outputs": []
    },
    {
      "cell_type": "code",
      "metadata": {
        "colab": {
          "base_uri": "https://localhost:8080/"
        },
        "id": "ac0Og-SLo7ld",
        "outputId": "bf0fcd87-a669-411d-8f8d-938386f177ff"
      },
      "source": [
        "print_hist(jitter_xy)"
      ],
      "execution_count": 20,
      "outputs": [
        {
          "output_type": "stream",
          "text": [
            "y   -3  -2  -1   0   1   2   3\n",
            "x                             \n",
            "-3  39  38  36  35  36  39  33\n",
            "-2  34  35  35  38  39  35  37\n",
            "-1  37  36  34  34  35  37  34\n",
            " 0  34  37  37  40  37  39  40\n",
            " 1  39  35  35  35  39  36  40\n",
            " 2  37  37  36  35  39  37  37\n",
            " 3  37  34  38  39  37  38  37\n"
          ],
          "name": "stdout"
        }
      ]
    },
    {
      "cell_type": "code",
      "metadata": {
        "id": "wqs-fJz5lLZj"
      },
      "source": [
        "# Update: shuffling will make a balanced set overall, but not per digit\n",
        "#rng = np.random.default_rng()\n",
        "#rng.shuffle(jitter_xy)\n",
        "\n",
        "# distribute the jitters by digit\n",
        "jitter_2 = np.zeros_like(jitter_xy)\n",
        "for i, loc_i in enumerate(loc_t):\n",
        "  jitter_2[loc_i, :] = jitter_xy[i, :]\n",
        "\n",
        "assert jitter_2.shape == (1797, 2)"
      ],
      "execution_count": 21,
      "outputs": []
    },
    {
      "cell_type": "code",
      "metadata": {
        "colab": {
          "base_uri": "https://localhost:8080/"
        },
        "id": "X9HpUewGuIme",
        "outputId": "c1a390ec-b513-4cf1-91f6-aec16f0900b2"
      },
      "source": [
        "print_hist(jitter_2)"
      ],
      "execution_count": 22,
      "outputs": [
        {
          "output_type": "stream",
          "text": [
            "y   -3  -2  -1   0   1   2   3\n",
            "x                             \n",
            "-3  39  38  36  35  36  39  33\n",
            "-2  34  35  35  38  39  35  37\n",
            "-1  37  36  34  34  35  37  34\n",
            " 0  34  37  37  40  37  39  40\n",
            " 1  39  35  35  35  39  36  40\n",
            " 2  37  37  36  35  39  37  37\n",
            " 3  37  34  38  39  37  38  37\n"
          ],
          "name": "stdout"
        }
      ]
    },
    {
      "cell_type": "code",
      "metadata": {
        "colab": {
          "base_uri": "https://localhost:8080/"
        },
        "id": "MH0xW1Imqz5N",
        "outputId": "3cd9cfd9-2823-4360-ef78-353eba85ea5c"
      },
      "source": [
        "jitter_2[:10,:]"
      ],
      "execution_count": 23,
      "outputs": [
        {
          "output_type": "execute_result",
          "data": {
            "text/plain": [
              "array([[-3, -3],\n",
              "       [ 3,  3],\n",
              "       [-3, -3],\n",
              "       [ 3,  3],\n",
              "       [-3, -2],\n",
              "       [-3, -2],\n",
              "       [-3, -1],\n",
              "       [-3, -1],\n",
              "       [-3, -2],\n",
              "       [-3, -3]])"
            ]
          },
          "metadata": {},
          "execution_count": 23
        }
      ]
    },
    {
      "cell_type": "code",
      "metadata": {
        "colab": {
          "base_uri": "https://localhost:8080/"
        },
        "id": "vT4pqUrZrOc8",
        "outputId": "33dc5cb8-ab88-4c93-af46-1f1a40e2ad89"
      },
      "source": [
        "loc_t[175:185]\n",
        "# transition from indeces of 0 to those of 1\n",
        "# [1746, 1768, 1793, 1, 11, 21, 42, 47, 56, 70]"
      ],
      "execution_count": 24,
      "outputs": [
        {
          "output_type": "execute_result",
          "data": {
            "text/plain": [
              "[1746, 1768, 1793, 1, 11, 21, 42, 47, 56, 70]"
            ]
          },
          "metadata": {},
          "execution_count": 24
        }
      ]
    },
    {
      "cell_type": "code",
      "metadata": {
        "colab": {
          "base_uri": "https://localhost:8080/"
        },
        "id": "65rLi5ZSn7wS",
        "outputId": "8ad12b79-3fbf-4ac0-8989-50efe6321fac"
      },
      "source": [
        "jitter_2[loc_t[:3],:], jitter_2[loc_t[(37-1):39],:], jitter_2[loc_t[(37*2-1):(37*2+2)],:], jitter_2[loc_t[175:185],:]"
      ],
      "execution_count": 25,
      "outputs": [
        {
          "output_type": "execute_result",
          "data": {
            "text/plain": [
              "(array([[-3, -3],\n",
              "        [-3, -3],\n",
              "        [-3, -3]]), array([[-2, -1],\n",
              "        [-2,  0],\n",
              "        [-2,  0]]), array([[-1,  3],\n",
              "        [-1,  3],\n",
              "        [ 0, -3]]), array([[ 3,  2],\n",
              "        [ 3,  3],\n",
              "        [ 3,  3],\n",
              "        [ 3,  3],\n",
              "        [ 3,  3],\n",
              "        [-3, -3],\n",
              "        [-3, -3],\n",
              "        [-3, -3],\n",
              "        [-3, -3],\n",
              "        [-3, -2]]))"
            ]
          },
          "metadata": {},
          "execution_count": 25
        }
      ]
    },
    {
      "cell_type": "code",
      "metadata": {
        "id": "Wx0XRzjvmlmw"
      },
      "source": [
        "jitter_xy = jitter_2\n",
        "del jitter_2"
      ],
      "execution_count": 26,
      "outputs": []
    },
    {
      "cell_type": "code",
      "metadata": {
        "colab": {
          "base_uri": "https://localhost:8080/"
        },
        "id": "QfJsE5s3gvyU",
        "outputId": "f00e3a55-d964-41de-f233-5c9bdc0c6059"
      },
      "source": [
        "print_hist(jitter_xy)"
      ],
      "execution_count": 27,
      "outputs": [
        {
          "output_type": "stream",
          "text": [
            "y   -3  -2  -1   0   1   2   3\n",
            "x                             \n",
            "-3  39  38  36  35  36  39  33\n",
            "-2  34  35  35  38  39  35  37\n",
            "-1  37  36  34  34  35  37  34\n",
            " 0  34  37  37  40  37  39  40\n",
            " 1  39  35  35  35  39  36  40\n",
            " 2  37  37  36  35  39  37  37\n",
            " 3  37  34  38  39  37  38  37\n"
          ],
          "name": "stdout"
        }
      ]
    },
    {
      "cell_type": "markdown",
      "metadata": {
        "id": "JBsOfGqzh3SD"
      },
      "source": [
        "Much better joint uniform distribution.\n",
        "\n",
        "Now check that the jitter per digit is also balanced"
      ]
    },
    {
      "cell_type": "code",
      "metadata": {
        "colab": {
          "base_uri": "https://localhost:8080/"
        },
        "id": "twfP8hKUh5Rk",
        "outputId": "da497064-e1f7-4e67-f5a3-df3b09c1641e"
      },
      "source": [
        "# count each digit\n",
        "#digits.target[:3]\n",
        "pd.Series(digits.target).value_counts().sort_index()"
      ],
      "execution_count": 28,
      "outputs": [
        {
          "output_type": "execute_result",
          "data": {
            "text/plain": [
              "0    178\n",
              "1    182\n",
              "2    177\n",
              "3    183\n",
              "4    181\n",
              "5    182\n",
              "6    181\n",
              "7    179\n",
              "8    174\n",
              "9    180\n",
              "dtype: int64"
            ]
          },
          "metadata": {},
          "execution_count": 28
        }
      ]
    },
    {
      "cell_type": "code",
      "metadata": {
        "colab": {
          "base_uri": "https://localhost:8080/"
        },
        "id": "qQX4s2zDiGGD",
        "outputId": "ae886d9c-d493-455a-9da3-f96494e00302"
      },
      "source": [
        "for t in range(10):\n",
        "  print(\"\")\n",
        "  print(f\"digit = {t}\")\n",
        "  print(pd.DataFrame(jitter_xy[digits.target==t, :], columns=[\"x\",\"y\"]).value_counts().unstack().fillna(0).astype(int))"
      ],
      "execution_count": 29,
      "outputs": [
        {
          "output_type": "stream",
          "text": [
            "\n",
            "digit = 0\n",
            "y   -3  -2  -1   0   1   2   3\n",
            "x                             \n",
            "-3   4   4   4   4   4   4   4\n",
            "-2   2   3   4   4   4   2   4\n",
            "-1   4   2   4   2   4   4   4\n",
            " 0   3   4   4   4   4   4   4\n",
            " 1   4   2   4   3   4   3   4\n",
            " 2   3   4   4   4   4   3   4\n",
            " 3   4   4   4   4   4   4   2\n",
            "\n",
            "digit = 1\n",
            "y   -3  -2  -1   0   1   2   3\n",
            "x                             \n",
            "-3   6   4   2   4   4   4   3\n",
            "-2   3   4   4   4   3   3   4\n",
            "-1   4   4   4   3   2   4   3\n",
            " 0   3   3   4   4   4   4   4\n",
            " 1   4   4   3   4   4   4   4\n",
            " 2   3   4   4   4   4   4   3\n",
            " 3   4   3   3   4   4   3   6\n",
            "\n",
            "digit = 2\n",
            "y   -3  -2  -1   0   1   2   3\n",
            "x                             \n",
            "-3   2   3   4   3   4   4   3\n",
            "-2   4   3   3   4   4   3   2\n",
            "-1   4   4   4   3   4   4   4\n",
            " 0   4   3   4   4   4   3   4\n",
            " 1   4   4   4   4   4   4   4\n",
            " 2   4   4   3   4   4   4   4\n",
            " 3   3   3   3   4   4   4   2\n",
            "\n",
            "digit = 3\n",
            "y   -3  -2  -1   0   1   2   3\n",
            "x                             \n",
            "-3   7   6   4   4   3   4   3\n",
            "-2   4   4   4   4   4   3   4\n",
            "-1   3   4   3   4   3   3   3\n",
            " 0   4   4   4   4   2   4   4\n",
            " 1   3   4   4   3   4   3   4\n",
            " 2   3   3   4   4   4   3   3\n",
            " 3   4   3   4   4   3   4   5\n",
            "\n",
            "digit = 4\n",
            "y   -3  -2  -1   0   1   2   3\n",
            "x                             \n",
            "-3   4   2   4   4   4   4   3\n",
            "-2   4   4   4   4   4   4   3\n",
            "-1   3   3   3   4   3   4   3\n",
            " 0   3   3   4   4   4   4   4\n",
            " 1   4   4   4   4   4   4   4\n",
            " 2   4   4   4   4   3   4   4\n",
            " 3   4   4   4   3   3   4   3\n",
            "\n",
            "digit = 5\n",
            "y   -3  -2  -1   0   1   2   3\n",
            "x                             \n",
            "-3   4   7   5   3   3   3   3\n",
            "-2   4   4   3   3   4   4   4\n",
            "-1   4   3   2   4   3   2   3\n",
            " 0   4   4   3   4   4   4   4\n",
            " 1   4   4   4   3   4   4   4\n",
            " 2   4   4   3   3   4   4   4\n",
            " 3   3   4   4   4   4   4   4\n",
            "\n",
            "digit = 6\n",
            "y   -3  -2  -1   0   1   2   3\n",
            "x                             \n",
            "-3   4   4   2   4   3   4   3\n",
            "-2   4   4   4   4   4   4   4\n",
            "-1   3   4   4   4   4   4   3\n",
            " 0   2   4   3   4   4   4   4\n",
            " 1   4   3   2   4   4   4   4\n",
            " 2   4   4   4   4   4   4   3\n",
            " 3   4   3   4   4   4   4   3\n",
            "\n",
            "digit = 7\n",
            "y   -3  -2  -1   0   1   2   3\n",
            "x                             \n",
            "-3   4   3   4   2   4   4   4\n",
            "-2   2   2   4   4   4   4   4\n",
            "-1   4   4   4   2   4   4   4\n",
            " 0   4   4   3   4   3   4   4\n",
            " 1   4   4   3   4   4   4   4\n",
            " 2   4   3   4   3   4   4   4\n",
            " 3   4   3   4   4   3   3   4\n",
            "\n",
            "digit = 8\n",
            "y   -3  -2  -1   0   1   2   3\n",
            "x                             \n",
            "-3   0   1   3   4   4   4   4\n",
            "-2   4   4   1   3   4   4   4\n",
            "-1   4   4   3   4   4   4   4\n",
            " 0   3   4   4   4   4   4   4\n",
            " 1   4   3   4   4   4   3   4\n",
            " 2   4   3   3   2   4   3   4\n",
            " 3   4   3   4   4   4   4   4\n",
            "\n",
            "digit = 9\n",
            "y   -3  -2  -1   0   1   2   3\n",
            "x                             \n",
            "-3   4   4   4   3   3   4   3\n",
            "-2   3   3   4   4   4   4   4\n",
            "-1   4   4   3   4   4   4   3\n",
            " 0   4   4   4   4   4   4   4\n",
            " 1   4   3   3   2   3   3   4\n",
            " 2   4   4   3   3   4   4   4\n",
            " 3   3   4   4   4   4   4   4\n"
          ],
          "name": "stdout"
        }
      ]
    },
    {
      "cell_type": "markdown",
      "metadata": {
        "id": "UuXTVXLAuP-w"
      },
      "source": [
        "Finally."
      ]
    },
    {
      "cell_type": "markdown",
      "metadata": {
        "id": "AazAZTUGWgtZ"
      },
      "source": [
        "# apply jitter"
      ]
    },
    {
      "cell_type": "code",
      "metadata": {
        "colab": {
          "base_uri": "https://localhost:8080/"
        },
        "id": "x8hWYKUxwOgU",
        "outputId": "77de64e3-bf70-4449-f041-86f18762191d"
      },
      "source": [
        "# test\n",
        "for img, (jx, jy) in zip(digpad[\"images\"], jitter_xy):\n",
        "  print(img.shape, jx, jy)\n",
        "  break"
      ],
      "execution_count": 30,
      "outputs": [
        {
          "output_type": "stream",
          "text": [
            "(14, 14) -3 -3\n"
          ],
          "name": "stdout"
        }
      ]
    },
    {
      "cell_type": "code",
      "metadata": {
        "colab": {
          "base_uri": "https://localhost:8080/",
          "height": 201
        },
        "id": "h03MbJR7u7D8",
        "outputId": "c6364045-c2d1-408e-d0ad-a4553075d41f"
      },
      "source": [
        "# use sklearn transform\n",
        "# https://scikit-image.org/docs/dev/api/skimage.transform.html\n",
        "from skimage.transform import warp\n",
        "from skimage.transform import SimilarityTransform\n",
        "\n",
        "my_translate = lambda img, jx, jy: warp(img, SimilarityTransform(translation=(jx, jy)))\n",
        "\n",
        "# test\n",
        "plot_side(digpad[\"images\"][0], my_translate(digpad[\"images\"][0], -2, -2), \"pad\", \"jit\")\n",
        "plt.show()"
      ],
      "execution_count": 31,
      "outputs": [
        {
          "output_type": "display_data",
          "data": {
            "image/png": "[encoded data removed]",
            "text/plain": [
              "<Figure size 360x360 with 2 Axes>"
            ]
          },
          "metadata": {
            "needs_background": "light"
          }
        }
      ]
    },
    {
      "cell_type": "code",
      "metadata": {
        "colab": {
          "base_uri": "https://localhost:8080/"
        },
        "id": "h20sM10iwaza",
        "outputId": "a6d46dd0-6685-4bf6-bcbc-df45daaeef58"
      },
      "source": [
        "digjit = {}\n",
        "digjit[\"images\"] = [\n",
        "  my_translate(img, jx, jy)\n",
        "  for img, (jx, jy)\n",
        "  in zip(digpad[\"images\"], jitter_xy)\n",
        "]\n",
        "\n",
        "len(digjit[\"images\"]), digjit[\"images\"][0].shape"
      ],
      "execution_count": 32,
      "outputs": [
        {
          "output_type": "execute_result",
          "data": {
            "text/plain": [
              "(1797, (14, 14))"
            ]
          },
          "metadata": {},
          "execution_count": 32
        }
      ]
    },
    {
      "cell_type": "code",
      "metadata": {
        "colab": {
          "base_uri": "https://localhost:8080/",
          "height": 218
        },
        "id": "wGcNohNZvstZ",
        "outputId": "d53a6781-f821-4855-d390-237b2f4bd6ff"
      },
      "source": [
        "print(f\"jitter = {jitter_xy[0,:]}\")\n",
        "\n",
        "plot_side(digpad[\"images\"][0], digjit[\"images\"][0], \"pad\", \"jit\")\n",
        "plt.show()"
      ],
      "execution_count": 33,
      "outputs": [
        {
          "output_type": "stream",
          "text": [
            "jitter = [-3 -3]\n"
          ],
          "name": "stdout"
        },
        {
          "output_type": "display_data",
          "data": {
            "image/png": "[encoded data removed]",
            "text/plain": [
              "<Figure size 360x360 with 2 Axes>"
            ]
          },
          "metadata": {
            "needs_background": "light"
          }
        }
      ]
    },
    {
      "cell_type": "code",
      "metadata": {
        "id": "bxs89b5O7iF8"
      },
      "source": [
        "def im2data(digxxx_img):\n",
        "  return np.vstack([img.reshape((-1,1)).squeeze() for img in digxxx_img])\n",
        "  \n",
        "digjit[\"data\"] = im2data(digjit[\"images\"])\n",
        "assert digjit[\"data\"].shape == (1797, 196)\n",
        "\n",
        "digpad[\"data\"] = im2data(digpad[\"images\"])\n",
        "assert digpad[\"data\"].shape == (1797, 196)"
      ],
      "execution_count": 34,
      "outputs": []
    },
    {
      "cell_type": "code",
      "metadata": {
        "colab": {
          "base_uri": "https://localhost:8080/"
        },
        "id": "lPOmWkoyaIcy",
        "outputId": "53689e11-d1fe-49da-c5bd-5b23fbe0a61a"
      },
      "source": [
        "digjit[\"data\"].astype(int).dtype"
      ],
      "execution_count": 35,
      "outputs": [
        {
          "output_type": "execute_result",
          "data": {
            "text/plain": [
              "dtype('int64')"
            ]
          },
          "metadata": {},
          "execution_count": 35
        }
      ]
    },
    {
      "cell_type": "code",
      "metadata": {
        "colab": {
          "base_uri": "https://localhost:8080/"
        },
        "id": "ZhVmu-EsZrpu",
        "outputId": "e1dee169-af64-48b9-a35f-b8ad1fe025d8"
      },
      "source": [
        "# save to csv, like the sklearn format at https://github.com/scikit-learn/scikit-learn/tree/main/sklearn/datasets/data\n",
        "fn_csv = \"digits_jitter.csv\"\n",
        "!rm -rf \"$fn_csv\" \"{fn_csv}.gz\"\n",
        "np.savetxt(fn_csv, digjit[\"data\"].astype(int), delimiter=\",\", fmt=\"%i\")\n",
        "\n",
        "!du -sh \"$fn_csv\"\n",
        "!wc -l \"$fn_csv\"\n",
        "!head -n3 \"$fn_csv\"\n",
        "!echo \"...\"\n",
        "!tail -n3 \"$fn_csv\"\n",
        "\n",
        "!gzip \"$fn_csv\"\n",
        "!du -sh \"{fn_csv}.gz\""
      ],
      "execution_count": 36,
      "outputs": [
        {
          "output_type": "stream",
          "text": [
            "720K\tdigits_jitter.csv\n",
            "1797 digits_jitter.csv\n",
            "0,0,0,0,0,0,0,0,0,0,0,0,0,0,0,0,0,0,0,0,0,0,0,0,0,0,0,0,0,0,0,0,0,0,0,0,0,0,0,0,0,0,0,0,0,0,0,0,0,0,0,0,0,0,0,0,0,0,0,0,0,0,0,0,0,0,0,0,0,0,0,0,0,0,0,0,0,0,0,0,0,0,0,0,0,0,0,0,0,0,0,0,5,13,9,1,0,0,0,0,0,0,0,0,0,0,13,15,10,15,5,0,0,0,0,0,0,0,0,3,15,2,0,11,8,0,0,0,0,0,0,0,0,4,12,0,0,8,8,0,0,0,0,0,0,0,0,5,8,0,0,9,8,0,0,0,0,0,0,0,0,4,11,0,1,12,7,0,0,0,0,0,0,0,0,2,14,5,10,12,0,0,0,0,0,0,0,0,0,0,6,13,10,0,0,0\n",
            "0,0,0,12,13,5,0,0,0,0,0,0,0,0,0,0,0,11,16,9,0,0,0,0,0,0,0,0,0,0,3,15,16,6,0,0,0,0,0,0,0,0,0,7,15,16,16,2,0,0,0,0,0,0,0,0,0,0,1,16,16,3,0,0,0,0,0,0,0,0,0,0,1,16,16,6,0,0,0,0,0,0,0,0,0,0,1,16,16,6,0,0,0,0,0,0,0,0,0,0,0,11,16,10,0,0,0,0,0,0,0,0,0,0,0,0,0,0,0,0,0,0,0,0,0,0,0,0,0,0,0,0,0,0,0,0,0,0,0,0,0,0,0,0,0,0,0,0,0,0,0,0,0,0,0,0,0,0,0,0,0,0,0,0,0,0,0,0,0,0,0,0,0,0,0,0,0,0,0,0,0,0,0,0,0,0,0,0,0,0,0,0,0,0,0,0\n",
            "0,0,0,0,0,0,0,0,0,0,0,0,0,0,0,0,0,0,0,0,0,0,0,0,0,0,0,0,0,0,0,0,0,0,0,0,0,0,0,0,0,0,0,0,0,0,0,0,0,0,0,0,0,0,0,0,0,0,0,0,0,0,0,0,0,0,0,0,0,0,0,0,0,0,0,0,0,0,0,0,0,0,0,0,0,0,0,0,0,0,0,0,0,4,15,12,0,0,0,0,0,0,0,0,0,0,3,16,15,14,0,0,0,0,0,0,0,0,0,0,8,13,8,16,0,0,0,0,0,0,0,0,0,0,1,6,15,11,0,0,0,0,0,0,0,0,0,1,8,13,15,1,0,0,0,0,0,0,0,0,0,9,16,16,5,0,0,0,0,0,0,0,0,0,0,3,13,16,16,11,5,0,0,0,0,0,0,0,0,0,0,3,11,16,9,0\n",
            "...\n",
            "0,0,1,11,15,1,0,0,0,0,0,0,0,0,0,0,13,16,8,2,1,0,0,0,0,0,0,0,0,0,16,15,10,16,5,0,0,0,0,0,0,0,0,0,8,16,16,7,0,0,0,0,0,0,0,0,0,0,9,16,16,4,0,0,0,0,0,0,0,0,0,0,16,14,16,15,0,0,0,0,0,0,0,0,0,0,15,15,15,16,0,0,0,0,0,0,0,0,0,0,2,9,13,6,0,0,0,0,0,0,0,0,0,0,0,0,0,0,0,0,0,0,0,0,0,0,0,0,0,0,0,0,0,0,0,0,0,0,0,0,0,0,0,0,0,0,0,0,0,0,0,0,0,0,0,0,0,0,0,0,0,0,0,0,0,0,0,0,0,0,0,0,0,0,0,0,0,0,0,0,0,0,0,0,0,0,0,0,0,0,0,0,0,0,0,0\n",
            "0,0,2,10,7,0,0,0,0,0,0,0,0,0,0,0,14,16,16,15,1,0,0,0,0,0,0,0,0,4,16,7,3,16,7,0,0,0,0,0,0,0,0,5,16,10,7,16,4,0,0,0,0,0,0,0,0,0,5,14,14,16,4,0,0,0,0,0,0,0,0,0,0,0,0,16,2,0,0,0,0,0,0,0,0,0,4,7,7,16,2,0,0,0,0,0,0,0,0,0,5,12,16,12,0,0,0,0,0,0,0,0,0,0,0,0,0,0,0,0,0,0,0,0,0,0,0,0,0,0,0,0,0,0,0,0,0,0,0,0,0,0,0,0,0,0,0,0,0,0,0,0,0,0,0,0,0,0,0,0,0,0,0,0,0,0,0,0,0,0,0,0,0,0,0,0,0,0,0,0,0,0,0,0,0,0,0,0,0,0,0,0,0,0,0,0\n",
            "0,0,10,14,8,1,0,0,0,0,0,0,0,0,0,2,16,14,6,1,0,0,0,0,0,0,0,0,0,0,15,15,8,15,0,0,0,0,0,0,0,0,0,0,5,16,16,10,0,0,0,0,0,0,0,0,0,0,12,15,15,12,0,0,0,0,0,0,0,0,0,4,16,6,4,16,6,0,0,0,0,0,0,0,0,8,16,10,8,16,8,0,0,0,0,0,0,0,0,1,8,12,14,12,1,0,0,0,0,0,0,0,0,0,0,0,0,0,0,0,0,0,0,0,0,0,0,0,0,0,0,0,0,0,0,0,0,0,0,0,0,0,0,0,0,0,0,0,0,0,0,0,0,0,0,0,0,0,0,0,0,0,0,0,0,0,0,0,0,0,0,0,0,0,0,0,0,0,0,0,0,0,0,0,0,0,0,0,0,0,0,0,0,0,0,0\n",
            "68K\tdigits_jitter.csv.gz\n"
          ],
          "name": "stdout"
        }
      ]
    },
    {
      "cell_type": "code",
      "metadata": {
        "colab": {
          "base_uri": "https://localhost:8080/"
        },
        "id": "u6DoS8ABet5p",
        "outputId": "fa7361f7-5d35-4267-9469-4500923205c1"
      },
      "source": [
        "# Also save the padded version (without the jitter)\n",
        "fn_csv = \"digits_padded.csv\"\n",
        "!rm -rf \"$fn_csv\" \"{fn_csv}.gz\"\n",
        "np.savetxt(fn_csv, digpad[\"data\"].astype(int), delimiter=\",\", fmt=\"%i\")\n",
        "\n",
        "!du -sh \"$fn_csv\"\n",
        "!wc -l \"$fn_csv\"\n",
        "!head -n3 \"$fn_csv\"\n",
        "!echo \"...\"\n",
        "!tail -n3 \"$fn_csv\"\n",
        "\n",
        "!gzip \"$fn_csv\"\n",
        "!du -sh \"{fn_csv}.gz\""
      ],
      "execution_count": 37,
      "outputs": [
        {
          "output_type": "stream",
          "text": [
            "720K\tdigits_padded.csv\n",
            "1797 digits_padded.csv\n",
            "0,0,0,0,0,0,0,0,0,0,0,0,0,0,0,0,0,0,0,0,0,0,0,0,0,0,0,0,0,0,0,0,0,0,0,0,0,0,0,0,0,0,0,0,0,0,0,5,13,9,1,0,0,0,0,0,0,0,0,0,0,13,15,10,15,5,0,0,0,0,0,0,0,0,3,15,2,0,11,8,0,0,0,0,0,0,0,0,4,12,0,0,8,8,0,0,0,0,0,0,0,0,5,8,0,0,9,8,0,0,0,0,0,0,0,0,4,11,0,1,12,7,0,0,0,0,0,0,0,0,2,14,5,10,12,0,0,0,0,0,0,0,0,0,0,6,13,10,0,0,0,0,0,0,0,0,0,0,0,0,0,0,0,0,0,0,0,0,0,0,0,0,0,0,0,0,0,0,0,0,0,0,0,0,0,0,0,0,0,0,0,0,0,0,0,0\n",
            "0,0,0,0,0,0,0,0,0,0,0,0,0,0,0,0,0,0,0,0,0,0,0,0,0,0,0,0,0,0,0,0,0,0,0,0,0,0,0,0,0,0,0,0,0,0,0,0,12,13,5,0,0,0,0,0,0,0,0,0,0,0,11,16,9,0,0,0,0,0,0,0,0,0,0,3,15,16,6,0,0,0,0,0,0,0,0,0,7,15,16,16,2,0,0,0,0,0,0,0,0,0,0,1,16,16,3,0,0,0,0,0,0,0,0,0,0,1,16,16,6,0,0,0,0,0,0,0,0,0,0,1,16,16,6,0,0,0,0,0,0,0,0,0,0,0,11,16,10,0,0,0,0,0,0,0,0,0,0,0,0,0,0,0,0,0,0,0,0,0,0,0,0,0,0,0,0,0,0,0,0,0,0,0,0,0,0,0,0,0,0,0,0,0,0,0\n",
            "0,0,0,0,0,0,0,0,0,0,0,0,0,0,0,0,0,0,0,0,0,0,0,0,0,0,0,0,0,0,0,0,0,0,0,0,0,0,0,0,0,0,0,0,0,0,0,0,4,15,12,0,0,0,0,0,0,0,0,0,0,3,16,15,14,0,0,0,0,0,0,0,0,0,0,8,13,8,16,0,0,0,0,0,0,0,0,0,0,1,6,15,11,0,0,0,0,0,0,0,0,0,1,8,13,15,1,0,0,0,0,0,0,0,0,0,9,16,16,5,0,0,0,0,0,0,0,0,0,0,3,13,16,16,11,5,0,0,0,0,0,0,0,0,0,0,3,11,16,9,0,0,0,0,0,0,0,0,0,0,0,0,0,0,0,0,0,0,0,0,0,0,0,0,0,0,0,0,0,0,0,0,0,0,0,0,0,0,0,0,0,0,0,0,0,0\n",
            "...\n",
            "0,0,0,0,0,0,0,0,0,0,0,0,0,0,0,0,0,0,0,0,0,0,0,0,0,0,0,0,0,0,0,0,0,0,0,0,0,0,0,0,0,0,0,0,0,0,0,1,11,15,1,0,0,0,0,0,0,0,0,0,0,13,16,8,2,1,0,0,0,0,0,0,0,0,0,16,15,10,16,5,0,0,0,0,0,0,0,0,0,8,16,16,7,0,0,0,0,0,0,0,0,0,0,9,16,16,4,0,0,0,0,0,0,0,0,0,0,16,14,16,15,0,0,0,0,0,0,0,0,0,0,15,15,15,16,0,0,0,0,0,0,0,0,0,0,2,9,13,6,0,0,0,0,0,0,0,0,0,0,0,0,0,0,0,0,0,0,0,0,0,0,0,0,0,0,0,0,0,0,0,0,0,0,0,0,0,0,0,0,0,0,0,0,0,0,0\n",
            "0,0,0,0,0,0,0,0,0,0,0,0,0,0,0,0,0,0,0,0,0,0,0,0,0,0,0,0,0,0,0,0,0,0,0,0,0,0,0,0,0,0,0,0,0,0,0,2,10,7,0,0,0,0,0,0,0,0,0,0,0,14,16,16,15,1,0,0,0,0,0,0,0,0,4,16,7,3,16,7,0,0,0,0,0,0,0,0,5,16,10,7,16,4,0,0,0,0,0,0,0,0,0,5,14,14,16,4,0,0,0,0,0,0,0,0,0,0,0,0,16,2,0,0,0,0,0,0,0,0,0,4,7,7,16,2,0,0,0,0,0,0,0,0,0,5,12,16,12,0,0,0,0,0,0,0,0,0,0,0,0,0,0,0,0,0,0,0,0,0,0,0,0,0,0,0,0,0,0,0,0,0,0,0,0,0,0,0,0,0,0,0,0,0,0,0\n",
            "0,0,0,0,0,0,0,0,0,0,0,0,0,0,0,0,0,0,0,0,0,0,0,0,0,0,0,0,0,0,0,0,0,0,0,0,0,0,0,0,0,0,0,0,0,0,0,10,14,8,1,0,0,0,0,0,0,0,0,0,2,16,14,6,1,0,0,0,0,0,0,0,0,0,0,15,15,8,15,0,0,0,0,0,0,0,0,0,0,5,16,16,10,0,0,0,0,0,0,0,0,0,0,12,15,15,12,0,0,0,0,0,0,0,0,0,4,16,6,4,16,6,0,0,0,0,0,0,0,0,8,16,10,8,16,8,0,0,0,0,0,0,0,0,1,8,12,14,12,1,0,0,0,0,0,0,0,0,0,0,0,0,0,0,0,0,0,0,0,0,0,0,0,0,0,0,0,0,0,0,0,0,0,0,0,0,0,0,0,0,0,0,0,0,0,0\n",
            "68K\tdigits_padded.csv.gz\n"
          ],
          "name": "stdout"
        }
      ]
    }
  ]
}
