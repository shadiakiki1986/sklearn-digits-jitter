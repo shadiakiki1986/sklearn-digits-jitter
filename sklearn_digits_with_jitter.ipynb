{
  "nbformat": 4,
  "nbformat_minor": 0,
  "metadata": {
    "colab": {
      "name": "sklearn digits with jitter.ipynb",
      "provenance": [],
      "collapsed_sections": [],
      "include_colab_link": true
    },
    "kernelspec": {
      "name": "python3",
      "display_name": "Python 3"
    },
    "language_info": {
      "name": "python"
    }
  },
  "cells": [
    {
      "cell_type": "markdown",
      "metadata": {
        "id": "view-in-github",
        "colab_type": "text"
      },
      "source": [
        "<a href=\"https://colab.research.google.com/github/shadiakiki1986/sklearn-digits-jitter/blob/master/sklearn_digits_with_jitter.ipynb\" target=\"_parent\"><img src=\"https://colab.research.google.com/assets/colab-badge.svg\" alt=\"Open In Colab\"/></a>"
      ]
    },
    {
      "cell_type": "markdown",
      "metadata": {
        "id": "8GaAZFCMWaw4"
      },
      "source": [
        "The digits dataset from sklearn, with jitter\n",
        "\n",
        "- [sklearn load_digits](https://scikit-learn.org/stable/modules/generated/sklearn.datasets.load_digits.html)\n",
        "\n",
        "Published at https://github.com/shadiakiki1986/sklearn-digits-jitter/"
      ]
    },
    {
      "cell_type": "markdown",
      "metadata": {
        "id": "HGkCzTmwXS4o"
      },
      "source": [
        "# get data"
      ]
    },
    {
      "cell_type": "code",
      "metadata": {
        "id": "wxWb-jzbXTdv"
      },
      "source": [
        "from sklearn.datasets import load_digits\n",
        "digits = load_digits()"
      ],
      "execution_count": 1,
      "outputs": []
    },
    {
      "cell_type": "markdown",
      "metadata": {
        "id": "gQSfU4r8bHrg"
      },
      "source": [
        "# pad all the images such that translation doesn't lose info"
      ]
    },
    {
      "cell_type": "code",
      "metadata": {
        "id": "7kiIf7Q6e9rs",
        "outputId": "15af42fa-f5a0-42fb-989b-c1621b5a65fc",
        "colab": {
          "base_uri": "https://localhost:8080/"
        }
      },
      "source": [
        "#type(digits.images) # np.ndarray\n",
        "#type(digits.data) # np.ndarray\n",
        "#digits.images.shape # (1797, 8, 8)\n",
        "#digits.data.shape # (1797, 64)"
      ],
      "execution_count": 9,
      "outputs": [
        {
          "output_type": "execute_result",
          "data": {
            "text/plain": [
              "(1797, 64)"
            ]
          },
          "metadata": {},
          "execution_count": 9
        }
      ]
    },
    {
      "cell_type": "code",
      "metadata": {
        "id": "k5yIy0RBgDDG"
      },
      "source": [
        "pad_width = 3"
      ],
      "execution_count": 44,
      "outputs": []
    },
    {
      "cell_type": "code",
      "metadata": {
        "id": "1T3UXtSzgXM_"
      },
      "source": [
        "import numpy as np"
      ],
      "execution_count": 13,
      "outputs": []
    },
    {
      "cell_type": "code",
      "metadata": {
        "id": "TpcD6fqygYi4",
        "outputId": "c53ec847-d7a6-40cf-8431-ff8a2c6d9171",
        "colab": {
          "base_uri": "https://localhost:8080/"
        }
      },
      "source": [
        "# tests\n",
        "#print(digits.images[-1])\n",
        "#print(np.pad(digits.images[0], (1,0), 'constant', constant_values=0)) # add to top and left\n",
        "#print(np.pad(digits.images[0], (0,1), 'constant', constant_values=0)) # add to bottom and right\n",
        "#digits.images.shape, np.pad(digits.images, (0,1), 'constant', constant_values=0).shape\n",
        "#print(np.pad(digits.images, (0,1), 'constant', constant_values=0)[:-1][-1]) # add to bottom and right"
      ],
      "execution_count": 43,
      "outputs": [
        {
          "output_type": "stream",
          "text": [
            "[[ 0.  0. 10. 14.  8.  1.  0.  0.]\n",
            " [ 0.  2. 16. 14.  6.  1.  0.  0.]\n",
            " [ 0.  0. 15. 15.  8. 15.  0.  0.]\n",
            " [ 0.  0.  5. 16. 16. 10.  0.  0.]\n",
            " [ 0.  0. 12. 15. 15. 12.  0.  0.]\n",
            " [ 0.  4. 16.  6.  4. 16.  6.  0.]\n",
            " [ 0.  8. 16. 10.  8. 16.  8.  0.]\n",
            " [ 0.  1.  8. 12. 14. 12.  1.  0.]]\n",
            "[[ 0.  0. 10. 14.  8.  1.  0.  0.  0.]\n",
            " [ 0.  2. 16. 14.  6.  1.  0.  0.  0.]\n",
            " [ 0.  0. 15. 15.  8. 15.  0.  0.  0.]\n",
            " [ 0.  0.  5. 16. 16. 10.  0.  0.  0.]\n",
            " [ 0.  0. 12. 15. 15. 12.  0.  0.  0.]\n",
            " [ 0.  4. 16.  6.  4. 16.  6.  0.  0.]\n",
            " [ 0.  8. 16. 10.  8. 16.  8.  0.  0.]\n",
            " [ 0.  1.  8. 12. 14. 12.  1.  0.  0.]\n",
            " [ 0.  0.  0.  0.  0.  0.  0.  0.  0.]]\n"
          ],
          "name": "stdout"
        }
      ]
    },
    {
      "cell_type": "code",
      "metadata": {
        "colab": {
          "base_uri": "https://localhost:8080/"
        },
        "id": "wlPihnDMbKXo",
        "outputId": "d869667b-b4a7-4f84-8dbf-fbec2f3d0519"
      },
      "source": [
        "digpad = {}\n",
        "\n",
        "# First, pad to an odd number of digits\n",
        "# (0,1) to add 1 pixel to bottom and right of each array\n",
        "# [:-1] to drop the extra last all-zeros entry\n",
        "digpad[\"images\"] = np.pad(digits.images, (0,1), 'constant', constant_values=0)[:-1]\n",
        "\n",
        "# next, pad to the desired pad_width\n",
        "digpad[\"images\"] = np.pad(digpad[\"images\"], pad_width, 'constant', constant_values=0)[pad_width:-pad_width]\n",
        "\n",
        "digits.images.shape, digpad[\"images\"].shape, digits.images[0].shape, digpad[\"images\"][0].shape"
      ],
      "execution_count": 47,
      "outputs": [
        {
          "output_type": "execute_result",
          "data": {
            "text/plain": [
              "((1797, 8, 8), (1797, 15, 15), (8, 8), (15, 15))"
            ]
          },
          "metadata": {},
          "execution_count": 47
        }
      ]
    },
    {
      "cell_type": "code",
      "metadata": {
        "id": "qgPVVFFFXedT"
      },
      "source": [
        "# utility plotting code\n",
        "# From https://www.codespeedy.com/image-augmentation-using-skimage-in-python/\n",
        "#basic Function to display image side by side\n",
        "from matplotlib import pyplot as plt\n",
        "def plot_side(img1, img2, title1, title2, cmap = None):\n",
        "    fig = plt.figure(tight_layout='auto', figsize=(5,5))\n",
        "    fig.add_subplot(221)\n",
        "    plt.title(title1)\n",
        "    plt.imshow(img1, origin=\"lower\")\n",
        "    plt.colorbar()\n",
        "\n",
        "    fig.add_subplot(222)\n",
        "    plt.title(title2)\n",
        "    plt.imshow(img2, cmap = None, origin=\"lower\")\n",
        "    plt.colorbar()\n",
        "    \n",
        "    return fig"
      ],
      "execution_count": 77,
      "outputs": []
    },
    {
      "cell_type": "code",
      "metadata": {
        "colab": {
          "base_uri": "https://localhost:8080/",
          "height": 911
        },
        "id": "PldT3T2cb8u-",
        "outputId": "b2dcbfe8-0dd5-4046-bfcb-89e901ca2f9a"
      },
      "source": [
        "for i in range(5):\n",
        "  i = -1*i\n",
        "  plot_side(digits.images[i], digpad[\"images\"][i], \"ori\", \"pad\")\n",
        "  plt.show()"
      ],
      "execution_count": 78,
      "outputs": [
        {
          "output_type": "display_data",
          "data": {
            "image/png": "[encoded data removed]",
            "text/plain": [
              "<Figure size 360x360 with 4 Axes>"
            ]
          },
          "metadata": {
            "needs_background": "light"
          }
        },
        {
          "output_type": "display_data",
          "data": {
            "image/png": "[encoded data removed]",
            "text/plain": [
              "<Figure size 360x360 with 4 Axes>"
            ]
          },
          "metadata": {
            "needs_background": "light"
          }
        },
        {
          "output_type": "display_data",
          "data": {
            "image/png": "[encoded data removed]",
            "text/plain": [
              "<Figure size 360x360 with 4 Axes>"
            ]
          },
          "metadata": {
            "needs_background": "light"
          }
        },
        {
          "output_type": "display_data",
          "data": {
            "image/png": "[encoded data removed]",
            "text/plain": [
              "<Figure size 360x360 with 4 Axes>"
            ]
          },
          "metadata": {
            "needs_background": "light"
          }
        },
        {
          "output_type": "display_data",
          "data": {
            "image/png": "[encoded data removed]",
            "text/plain": [
              "<Figure size 360x360 with 4 Axes>"
            ]
          },
          "metadata": {
            "needs_background": "light"
          }
        }
      ]
    },
    {
      "cell_type": "markdown",
      "metadata": {
        "id": "re3xGXhQcEmN"
      },
      "source": [
        "# generate jitter and check that it's balanced"
      ]
    },
    {
      "cell_type": "markdown",
      "metadata": {
        "id": "kwoHtDxifN4J"
      },
      "source": [
        "## (deprecated) method 1: rng.integers: not jointly uniform though"
      ]
    },
    {
      "cell_type": "markdown",
      "metadata": {
        "id": "8ZgFozEffpgZ"
      },
      "source": [
        "```\n",
        "jitter_max = 3\n",
        "```"
      ]
    },
    {
      "cell_type": "markdown",
      "metadata": {
        "id": "VmB8bfmdcGw3"
      },
      "source": [
        "```\n",
        "# +1 to be inclusive of the high side\n",
        "rng = np.random.default_rng()\n",
        "size = len(digpad[\"images\"])\n",
        "#size*=100 # FIXME increasing sample size to see if issue of not being jointly uniform is fixed\n",
        "jitter_xy = rng.integers(low=-1*jitter_max, high=+1*jitter_max+1, size=(size,2))\n",
        "jitter_xy.shape\n",
        "```"
      ]
    },
    {
      "cell_type": "markdown",
      "metadata": {
        "id": "ayrk6nsxcj87"
      },
      "source": [
        "```\n",
        "plt.hist(jitter_xy[:,0], bins=np.arange(jitter_xy.min(), jitter_xy.max()+1, 1)-.5)\n",
        "plt.title(\"jitter_x\")\n",
        "plt.show()\n",
        "\n",
        "plt.hist(jitter_xy[:,1], bins=np.arange(jitter_xy.min(), jitter_xy.max()+1, 1)-.5)\n",
        "plt.title(\"jitter_y\")\n",
        "plt.show()\n",
        "```"
      ]
    },
    {
      "cell_type": "markdown",
      "metadata": {
        "id": "7LvHZZ1qc4H5"
      },
      "source": [
        "```\n",
        "import pandas as pd\n",
        "count_jitter = pd.DataFrame(jitter_xy, columns=[\"x\",\"y\"]).value_counts().unstack()\n",
        "print(f\"min: {count_jitter.min().min()}\")\n",
        "count_jitter - count_jitter.min().min()\n",
        "```"
      ]
    },
    {
      "cell_type": "markdown",
      "metadata": {
        "id": "H7GeAFVvfXBX"
      },
      "source": [
        "For (x,y) = (-3,-3), it is sampled 74 times, a third as much as (1,3) which is sampled 212 times => not balanced"
      ]
    },
    {
      "cell_type": "markdown",
      "metadata": {
        "id": "_IggLJKTcIbq"
      },
      "source": [
        "```\n",
        "del jitter_xy\n",
        "```"
      ]
    },
    {
      "cell_type": "markdown",
      "metadata": {
        "id": "epSHRCOFffFN"
      },
      "source": [
        "## method 2: is jointly uniform"
      ]
    },
    {
      "cell_type": "code",
      "metadata": {
        "id": "izXbKIDLfsHh"
      },
      "source": [
        "jitter_max = 3\n",
        "assert jitter_max <= pad_width"
      ],
      "execution_count": 53,
      "outputs": []
    },
    {
      "cell_type": "code",
      "metadata": {
        "id": "Z1-bjfpYoyV5"
      },
      "source": [
        "# util func\n",
        "# overall distribution of jitter x/y pairs\n",
        "import pandas as pd\n",
        "def print_hist(jitter_xy):\n",
        "  print(pd.DataFrame(jitter_xy, columns=[\"x\",\"y\"]).value_counts().unstack())"
      ],
      "execution_count": 54,
      "outputs": []
    },
    {
      "cell_type": "code",
      "metadata": {
        "id": "K8dT54WepkCc"
      },
      "source": [
        "# numpy random number generator\n",
        "rng = np.random.default_rng()"
      ],
      "execution_count": 55,
      "outputs": []
    },
    {
      "cell_type": "markdown",
      "metadata": {
        "id": "WBPwRnXYEz7S"
      },
      "source": [
        "For the end jittering to be balanced overall AND per digit, get the locations of each digit"
      ]
    },
    {
      "cell_type": "code",
      "metadata": {
        "colab": {
          "base_uri": "https://localhost:8080/"
        },
        "id": "z1aEwCsNjeDQ",
        "outputId": "e34b1835-9d2f-4c1b-a8d6-187c3942141f"
      },
      "source": [
        "loc_t = []\n",
        "for t in range(10):\n",
        "  loc_t += np.where(digits.target == t)[0].tolist()\n",
        "\n",
        "len(loc_t)"
      ],
      "execution_count": 56,
      "outputs": [
        {
          "output_type": "execute_result",
          "data": {
            "text/plain": [
              "1797"
            ]
          },
          "metadata": {},
          "execution_count": 56
        }
      ]
    },
    {
      "cell_type": "code",
      "metadata": {
        "colab": {
          "base_uri": "https://localhost:8080/"
        },
        "id": "EG1KCV1CjvKD",
        "outputId": "4d1d8c95-be66-41d9-a0d4-086f43ae07c3"
      },
      "source": [
        "loc_t[:3], digits.target[[0,10,20]]"
      ],
      "execution_count": 57,
      "outputs": [
        {
          "output_type": "execute_result",
          "data": {
            "text/plain": [
              "([0, 10, 20], array([0, 0, 0]))"
            ]
          },
          "metadata": {},
          "execution_count": 57
        }
      ]
    },
    {
      "cell_type": "code",
      "metadata": {
        "colab": {
          "base_uri": "https://localhost:8080/"
        },
        "id": "uXPpevZ9kGxY",
        "outputId": "8cb151ff-2fa3-4a41-86ce-cca33f80546f"
      },
      "source": [
        "loc_t[200:203], digits.target[[218, 221, 227]]"
      ],
      "execution_count": 58,
      "outputs": [
        {
          "output_type": "execute_result",
          "data": {
            "text/plain": [
              "([218, 221, 227], array([1, 1, 1]))"
            ]
          },
          "metadata": {},
          "execution_count": 58
        }
      ]
    },
    {
      "cell_type": "markdown",
      "metadata": {
        "id": "kqju32W_E9R2"
      },
      "source": [
        "Start calculating jitter"
      ]
    },
    {
      "cell_type": "code",
      "metadata": {
        "colab": {
          "base_uri": "https://localhost:8080/"
        },
        "id": "eAIditZ3fhav",
        "outputId": "90f3546c-c347-4677-ce50-54d0f64e8979"
      },
      "source": [
        "# cartesian product of possible jitter pairs\n",
        "# https://stackoverflow.com/questions/1208118/using-numpy-to-build-an-array-of-all-combinations-of-two-arrays\n",
        "\n",
        "# Option 1: range -jitter:1:+jitter\n",
        "jitter_xy = np.array(np.meshgrid(\n",
        "    range(-1*jitter_max, +1*jitter_max + 1, 1),\n",
        "    range(-1*jitter_max, +1*jitter_max + 1, 1)\n",
        ")).T.reshape((-1,2))\n",
        "assert jitter_xy.shape == (49, 2)\n",
        "\n",
        "\n",
        "# Option 2: Just -jitter, 0, +jitter\n",
        "#jitter_xy = np.array(np.meshgrid(\n",
        "#    [-1*jitter_max, 0, +1*jitter_max],\n",
        "#    [-1*jitter_max, 0, +1*jitter_max]\n",
        "#)).T.reshape((-1,2))\n",
        "#assert jitter_xy.shape == (9, 2)\n",
        "\n",
        "print(jitter_xy.T)"
      ],
      "execution_count": 59,
      "outputs": [
        {
          "output_type": "stream",
          "text": [
            "[[-3 -3 -3 -3 -3 -3 -3 -2 -2 -2 -2 -2 -2 -2 -1 -1 -1 -1 -1 -1 -1  0  0  0\n",
            "   0  0  0  0  1  1  1  1  1  1  1  2  2  2  2  2  2  2  3  3  3  3  3  3\n",
            "   3]\n",
            " [-3 -2 -1  0  1  2  3 -3 -2 -1  0  1  2  3 -3 -2 -1  0  1  2  3 -3 -2 -1\n",
            "   0  1  2  3 -3 -2 -1  0  1  2  3 -3 -2 -1  0  1  2  3 -3 -2 -1  0  1  2\n",
            "   3]]\n"
          ],
          "name": "stdout"
        }
      ]
    },
    {
      "cell_type": "code",
      "metadata": {
        "colab": {
          "base_uri": "https://localhost:8080/"
        },
        "id": "mKuXxVsBo4MV",
        "outputId": "8a1e2447-cc99-4a06-e58b-237d705b6f25"
      },
      "source": [
        "print_hist(jitter_xy)"
      ],
      "execution_count": 60,
      "outputs": [
        {
          "output_type": "stream",
          "text": [
            "y   -3  -2  -1   0   1   2   3\n",
            "x                             \n",
            "-3   1   1   1   1   1   1   1\n",
            "-2   1   1   1   1   1   1   1\n",
            "-1   1   1   1   1   1   1   1\n",
            " 0   1   1   1   1   1   1   1\n",
            " 1   1   1   1   1   1   1   1\n",
            " 2   1   1   1   1   1   1   1\n",
            " 3   1   1   1   1   1   1   1\n"
          ],
          "name": "stdout"
        }
      ]
    },
    {
      "cell_type": "code",
      "metadata": {
        "id": "WsTnDl9VnDOv"
      },
      "source": [
        "# Repeat the jitters to get one jitter per entry in the dataset\n",
        "import math\n",
        "ndig = 10 # There are 10 digits in the dataset\n",
        "jrep = math.ceil(len(digits.images)/ndig/jitter_xy.shape[0])\n",
        "assert jrep == 4 # for range option above\n",
        "#assert jrep == 20 # for edges only\n",
        "# Update: use np.repeat to get -3 -3 -3 -2 -2 -2 ... then np.tile to get -3 -3 -3 -2 -2 -2 ... -3 -3 -3 -2 -2 -2 ...\n",
        "jitter_xy = np.repeat(jitter_xy, jrep, axis=0)\n",
        "jitter_xy = np.tile(jitter_xy.T, ndig).T\n",
        "assert jitter_xy.shape == (1960, 2) # for range option\n",
        "#assert jitter_xy.shape == (1800, 2) # for edges option"
      ],
      "execution_count": 61,
      "outputs": []
    },
    {
      "cell_type": "code",
      "metadata": {
        "colab": {
          "base_uri": "https://localhost:8080/"
        },
        "id": "cOm83UfGo5zp",
        "outputId": "5960716d-c7e4-423f-83b1-5c3462c9aa94"
      },
      "source": [
        "print_hist(jitter_xy)"
      ],
      "execution_count": 62,
      "outputs": [
        {
          "output_type": "stream",
          "text": [
            "y   -3  -2  -1   0   1   2   3\n",
            "x                             \n",
            "-3  40  40  40  40  40  40  40\n",
            "-2  40  40  40  40  40  40  40\n",
            "-1  40  40  40  40  40  40  40\n",
            " 0  40  40  40  40  40  40  40\n",
            " 1  40  40  40  40  40  40  40\n",
            " 2  40  40  40  40  40  40  40\n",
            " 3  40  40  40  40  40  40  40\n"
          ],
          "name": "stdout"
        }
      ]
    },
    {
      "cell_type": "code",
      "metadata": {
        "colab": {
          "base_uri": "https://localhost:8080/"
        },
        "id": "1lJbv4vHnQfj",
        "outputId": "096962ba-eef5-4bd3-a9de-f3dff4c7e5b8"
      },
      "source": [
        "# for range option\n",
        "jitter_xy[:5, :], jitter_xy[4*49-2:4*49+5, :] # , jitter_xy[100:103, :]"
      ],
      "execution_count": 63,
      "outputs": [
        {
          "output_type": "execute_result",
          "data": {
            "text/plain": [
              "(array([[-3, -3],\n",
              "        [-3, -3],\n",
              "        [-3, -3],\n",
              "        [-3, -3],\n",
              "        [-3, -2]]), array([[ 3,  3],\n",
              "        [ 3,  3],\n",
              "        [-3, -3],\n",
              "        [-3, -3],\n",
              "        [-3, -3],\n",
              "        [-3, -3],\n",
              "        [-3, -2]]))"
            ]
          },
          "metadata": {},
          "execution_count": 63
        }
      ]
    },
    {
      "cell_type": "code",
      "metadata": {
        "id": "yUyLb42pnGO-"
      },
      "source": [
        "# randomly drop n jitters where n is the extra number of jitters we have from the repetition\n",
        "jitter_drop = jitter_xy.shape[0] - len(digits.images)\n",
        "assert jitter_drop == 1960 - 1797 # for range option\n",
        "#assert jitter_drop == 1800 - 1797 # for edges option\n",
        "\n",
        "# Note: high is excluded\n",
        "# Update: instead of random integers, which could give the same integer more than once, get random without repetition\n",
        "#jitter_drop = rng.integers(low=0, high=jitter_xy.shape[0], size=jitter_drop).tolist()\n",
        "drop_ind = np.arange(jitter_xy.shape[0])\n",
        "rng.shuffle(drop_ind)\n",
        "jitter_drop = drop_ind[:jitter_drop]\n",
        "assert jitter_drop.shape[0] == len(set(jitter_drop.tolist())) # no dupes\n",
        "\n",
        "jitter_xy = np.delete(jitter_xy, jitter_drop, axis=0)\n",
        "assert jitter_xy.shape == (1797, 2)"
      ],
      "execution_count": 64,
      "outputs": []
    },
    {
      "cell_type": "code",
      "metadata": {
        "colab": {
          "base_uri": "https://localhost:8080/"
        },
        "id": "ac0Og-SLo7ld",
        "outputId": "7972eca7-ad4a-4919-f701-8091bdd95c22"
      },
      "source": [
        "print_hist(jitter_xy)"
      ],
      "execution_count": 65,
      "outputs": [
        {
          "output_type": "stream",
          "text": [
            "y   -3  -2  -1   0   1   2   3\n",
            "x                             \n",
            "-3  35  37  37  38  38  36  39\n",
            "-2  36  37  35  37  35  37  35\n",
            "-1  35  38  36  37  36  35  36\n",
            " 0  36  38  37  35  38  39  36\n",
            " 1  37  37  34  38  35  37  40\n",
            " 2  36  40  36  37  36  35  37\n",
            " 3  39  37  38  37  38  32  37\n"
          ],
          "name": "stdout"
        }
      ]
    },
    {
      "cell_type": "code",
      "metadata": {
        "id": "wqs-fJz5lLZj"
      },
      "source": [
        "# Update: shuffling will make a balanced set overall, but not per digit\n",
        "#rng = np.random.default_rng()\n",
        "#rng.shuffle(jitter_xy)\n",
        "\n",
        "# distribute the jitters by digit\n",
        "jitter_2 = np.zeros_like(jitter_xy)\n",
        "for i, loc_i in enumerate(loc_t):\n",
        "  jitter_2[loc_i, :] = jitter_xy[i, :]\n",
        "\n",
        "assert jitter_2.shape == (1797, 2)"
      ],
      "execution_count": 66,
      "outputs": []
    },
    {
      "cell_type": "code",
      "metadata": {
        "colab": {
          "base_uri": "https://localhost:8080/"
        },
        "id": "X9HpUewGuIme",
        "outputId": "7bca8911-b200-4d78-9ba6-e49959907a0f"
      },
      "source": [
        "print_hist(jitter_2)"
      ],
      "execution_count": 67,
      "outputs": [
        {
          "output_type": "stream",
          "text": [
            "y   -3  -2  -1   0   1   2   3\n",
            "x                             \n",
            "-3  35  37  37  38  38  36  39\n",
            "-2  36  37  35  37  35  37  35\n",
            "-1  35  38  36  37  36  35  36\n",
            " 0  36  38  37  35  38  39  36\n",
            " 1  37  37  34  38  35  37  40\n",
            " 2  36  40  36  37  36  35  37\n",
            " 3  39  37  38  37  38  32  37\n"
          ],
          "name": "stdout"
        }
      ]
    },
    {
      "cell_type": "code",
      "metadata": {
        "colab": {
          "base_uri": "https://localhost:8080/"
        },
        "id": "MH0xW1Imqz5N",
        "outputId": "4be85d00-f31a-4320-dc19-639f2735a030"
      },
      "source": [
        "jitter_2[:10,:]"
      ],
      "execution_count": 68,
      "outputs": [
        {
          "output_type": "execute_result",
          "data": {
            "text/plain": [
              "array([[-3, -3],\n",
              "       [ 3,  3],\n",
              "       [-3, -3],\n",
              "       [ 3,  3],\n",
              "       [-3, -3],\n",
              "       [ 3,  3],\n",
              "       [-3, -3],\n",
              "       [-3,  0],\n",
              "       [-3, -3],\n",
              "       [ 3,  2]])"
            ]
          },
          "metadata": {},
          "execution_count": 68
        }
      ]
    },
    {
      "cell_type": "code",
      "metadata": {
        "colab": {
          "base_uri": "https://localhost:8080/"
        },
        "id": "vT4pqUrZrOc8",
        "outputId": "44b440c7-a2e3-432d-8542-a710c1d697e7"
      },
      "source": [
        "loc_t[175:185]\n",
        "# transition from indeces of 0 to those of 1\n",
        "# [1746, 1768, 1793, 1, 11, 21, 42, 47, 56, 70]"
      ],
      "execution_count": 69,
      "outputs": [
        {
          "output_type": "execute_result",
          "data": {
            "text/plain": [
              "[1746, 1768, 1793, 1, 11, 21, 42, 47, 56, 70]"
            ]
          },
          "metadata": {},
          "execution_count": 69
        }
      ]
    },
    {
      "cell_type": "code",
      "metadata": {
        "colab": {
          "base_uri": "https://localhost:8080/"
        },
        "id": "65rLi5ZSn7wS",
        "outputId": "10ec7ae0-977b-4ad2-9967-44b480086eff"
      },
      "source": [
        "jitter_2[loc_t[:3],:], jitter_2[loc_t[(37-1):39],:], jitter_2[loc_t[(37*2-1):(37*2+2)],:], jitter_2[loc_t[175:185],:]"
      ],
      "execution_count": 70,
      "outputs": [
        {
          "output_type": "execute_result",
          "data": {
            "text/plain": [
              "(array([[-3, -3],\n",
              "        [-3, -3],\n",
              "        [-3, -3]]), array([[-2, -1],\n",
              "        [-2, -1],\n",
              "        [-2,  0]]), array([[-1,  2],\n",
              "        [-1,  2],\n",
              "        [-1,  3]]), array([[ 3,  2],\n",
              "        [ 3,  2],\n",
              "        [ 3,  2],\n",
              "        [ 3,  3],\n",
              "        [ 3,  3],\n",
              "        [ 3,  3],\n",
              "        [ 3,  3],\n",
              "        [-3, -3],\n",
              "        [-3, -3],\n",
              "        [-3, -3]]))"
            ]
          },
          "metadata": {},
          "execution_count": 70
        }
      ]
    },
    {
      "cell_type": "code",
      "metadata": {
        "id": "Wx0XRzjvmlmw"
      },
      "source": [
        "jitter_xy = jitter_2\n",
        "del jitter_2"
      ],
      "execution_count": 71,
      "outputs": []
    },
    {
      "cell_type": "code",
      "metadata": {
        "colab": {
          "base_uri": "https://localhost:8080/"
        },
        "id": "QfJsE5s3gvyU",
        "outputId": "e59d63dc-d648-4ef1-f1b1-a057c09dd67c"
      },
      "source": [
        "print_hist(jitter_xy)"
      ],
      "execution_count": 72,
      "outputs": [
        {
          "output_type": "stream",
          "text": [
            "y   -3  -2  -1   0   1   2   3\n",
            "x                             \n",
            "-3  35  37  37  38  38  36  39\n",
            "-2  36  37  35  37  35  37  35\n",
            "-1  35  38  36  37  36  35  36\n",
            " 0  36  38  37  35  38  39  36\n",
            " 1  37  37  34  38  35  37  40\n",
            " 2  36  40  36  37  36  35  37\n",
            " 3  39  37  38  37  38  32  37\n"
          ],
          "name": "stdout"
        }
      ]
    },
    {
      "cell_type": "markdown",
      "metadata": {
        "id": "JBsOfGqzh3SD"
      },
      "source": [
        "Much better joint uniform distribution.\n",
        "\n",
        "Now check that the jitter per digit is also balanced"
      ]
    },
    {
      "cell_type": "code",
      "metadata": {
        "colab": {
          "base_uri": "https://localhost:8080/"
        },
        "id": "twfP8hKUh5Rk",
        "outputId": "a0fb3fb5-a103-489e-8fc0-cdc2be4a2487"
      },
      "source": [
        "# count each digit\n",
        "#digits.target[:3]\n",
        "pd.Series(digits.target).value_counts().sort_index()"
      ],
      "execution_count": 73,
      "outputs": [
        {
          "output_type": "execute_result",
          "data": {
            "text/plain": [
              "0    178\n",
              "1    182\n",
              "2    177\n",
              "3    183\n",
              "4    181\n",
              "5    182\n",
              "6    181\n",
              "7    179\n",
              "8    174\n",
              "9    180\n",
              "dtype: int64"
            ]
          },
          "metadata": {},
          "execution_count": 73
        }
      ]
    },
    {
      "cell_type": "code",
      "metadata": {
        "colab": {
          "base_uri": "https://localhost:8080/"
        },
        "id": "qQX4s2zDiGGD",
        "outputId": "8da39fe3-911c-4c02-8dc2-dc769425f28f"
      },
      "source": [
        "for t in range(10):\n",
        "  print(\"\")\n",
        "  print(f\"digit = {t}\")\n",
        "  print(pd.DataFrame(jitter_xy[digits.target==t, :], columns=[\"x\",\"y\"]).value_counts().unstack().fillna(0).astype(int))"
      ],
      "execution_count": 74,
      "outputs": [
        {
          "output_type": "stream",
          "text": [
            "\n",
            "digit = 0\n",
            "y   -3  -2  -1   0   1   2   3\n",
            "x                             \n",
            "-3   3   4   3   4   4   4   4\n",
            "-2   4   4   4   4   3   4   4\n",
            "-1   3   4   4   3   4   4   3\n",
            " 0   4   3   4   4   3   4   4\n",
            " 1   4   4   3   3   4   3   4\n",
            " 2   3   4   4   4   4   4   4\n",
            " 3   4   4   4   3   3   4   0\n",
            "\n",
            "digit = 1\n",
            "y   -3  -2  -1   0   1   2   3\n",
            "x                             \n",
            "-3   4   2   4   4   4   3   4\n",
            "-2   4   4   4   4   4   3   3\n",
            "-1   4   4   1   3   4   4   4\n",
            " 0   4   3   4   2   4   4   4\n",
            " 1   4   4   3   4   3   4   4\n",
            " 2   4   4   4   4   3   3   4\n",
            " 3   4   4   4   4   4   2   8\n",
            "\n",
            "digit = 2\n",
            "y   -3  -2  -1   0   1   2   3\n",
            "x                             \n",
            "-3   2   4   4   4   4   3   4\n",
            "-2   4   4   4   4   4   4   4\n",
            "-1   4   3   4   4   3   4   4\n",
            " 0   3   4   4   4   4   3   4\n",
            " 1   3   4   2   4   2   4   4\n",
            " 2   4   4   4   4   3   4   3\n",
            " 3   4   4   4   4   4   3   0\n",
            "\n",
            "digit = 3\n",
            "y   -3  -2  -1   0   1   2   3\n",
            "x                             \n",
            "-3   5   4   4   4   3   4   4\n",
            "-2   2   3   4   4   3   3   3\n",
            "-1   3   3   4   4   4   3   4\n",
            " 0   2   4   3   4   4   4   3\n",
            " 1   4   4   4   4   4   3   4\n",
            " 2   3   4   4   4   4   3   4\n",
            " 3   4   4   4   4   4   3   8\n",
            "\n",
            "digit = 4\n",
            "y   -3  -2  -1   0   1   2   3\n",
            "x                             \n",
            "-3   3   4   3   4   4   3   4\n",
            "-2   4   4   3   3   4   4   4\n",
            "-1   3   4   4   4   4   4   3\n",
            " 0   4   4   4   3   4   4   3\n",
            " 1   4   4   3   4   4   4   4\n",
            " 2   4   4   4   3   3   4   4\n",
            " 3   4   3   4   4   4   3   3\n",
            "\n",
            "digit = 5\n",
            "y   -3  -2  -1   0   1   2   3\n",
            "x                             \n",
            "-3   5   4   4   3   4   4   3\n",
            "-2   4   3   3   3   4   4   4\n",
            "-1   4   4   3   4   3   4   4\n",
            " 0   4   4   4   3   4   4   4\n",
            " 1   4   4   4   3   4   4   4\n",
            " 2   4   4   3   3   4   4   4\n",
            " 3   4   3   3   3   4   3   4\n",
            "\n",
            "digit = 6\n",
            "y   -3  -2  -1   0   1   2   3\n",
            "x                             \n",
            "-3   6   7   8   3   3   4   4\n",
            "-2   3   4   4   4   2   4   4\n",
            "-1   3   4   4   4   3   2   2\n",
            " 0   3   4   3   3   4   4   3\n",
            " 1   3   3   3   4   3   4   4\n",
            " 2   3   4   3   4   4   4   3\n",
            " 3   4   4   4   3   3   4   4\n",
            "\n",
            "digit = 7\n",
            "y   -3  -2  -1   0   1   2   3\n",
            "x                             \n",
            "-3   3   0   0   4   4   4   4\n",
            "-2   3   4   4   4   4   4   2\n",
            "-1   4   4   4   4   4   2   4\n",
            " 0   4   4   4   4   4   4   4\n",
            " 1   4   4   4   4   4   4   4\n",
            " 2   4   4   4   4   3   4   4\n",
            " 3   4   3   4   4   4   3   4\n",
            "\n",
            "digit = 8\n",
            "y   -3  -2  -1   0   1   2   3\n",
            "x                             \n",
            "-3   1   4   3   4   4   4   4\n",
            "-2   4   3   3   4   3   4   4\n",
            "-1   4   4   4   3   3   4   4\n",
            " 0   4   4   4   4   4   4   3\n",
            " 1   4   4   4   4   4   4   4\n",
            " 2   3   4   4   4   4   2   3\n",
            " 3   3   4   3   4   4   2   0\n",
            "\n",
            "digit = 9\n",
            "y   -3  -2  -1   0   1   2   3\n",
            "x                             \n",
            "-3   3   4   4   4   4   3   4\n",
            "-2   4   4   2   3   4   3   3\n",
            "-1   3   4   4   4   4   4   4\n",
            " 0   4   4   3   4   3   4   4\n",
            " 1   3   2   4   4   3   3   4\n",
            " 2   4   4   2   3   4   3   4\n",
            " 3   4   4   4   4   4   5   6\n"
          ],
          "name": "stdout"
        }
      ]
    },
    {
      "cell_type": "markdown",
      "metadata": {
        "id": "UuXTVXLAuP-w"
      },
      "source": [
        "Finally."
      ]
    },
    {
      "cell_type": "markdown",
      "metadata": {
        "id": "AazAZTUGWgtZ"
      },
      "source": [
        "# apply jitter"
      ]
    },
    {
      "cell_type": "code",
      "metadata": {
        "colab": {
          "base_uri": "https://localhost:8080/"
        },
        "id": "x8hWYKUxwOgU",
        "outputId": "0baaf15e-2ff1-496b-c223-2d917487c53b"
      },
      "source": [
        "# test\n",
        "#for img, (jx, jy) in zip(digpad[\"images\"], jitter_xy):\n",
        "#  print(img.shape, jx, jy)\n",
        "#  break"
      ],
      "execution_count": 75,
      "outputs": [
        {
          "output_type": "stream",
          "text": [
            "(15, 15) -3 -3\n"
          ],
          "name": "stdout"
        }
      ]
    },
    {
      "cell_type": "code",
      "metadata": {
        "colab": {
          "base_uri": "https://localhost:8080/",
          "height": 199
        },
        "id": "h03MbJR7u7D8",
        "outputId": "8bc89947-04ea-403b-fc37-8f132d645c1a"
      },
      "source": [
        "# use sklearn transform\n",
        "# https://scikit-image.org/docs/dev/api/skimage.transform.html\n",
        "from skimage.transform import warp\n",
        "from skimage.transform import SimilarityTransform\n",
        "\n",
        "my_translate = lambda img, jx, jy: warp(img, SimilarityTransform(translation=(jx, jy)))\n",
        "\n",
        "# test\n",
        "plot_side(digpad[\"images\"][0], my_translate(digpad[\"images\"][0], -2, -2), \"pad\", \"jit\")\n",
        "plt.show()"
      ],
      "execution_count": 79,
      "outputs": [
        {
          "output_type": "display_data",
          "data": {
            "image/png": "[encoded data removed]",
            "text/plain": [
              "<Figure size 360x360 with 4 Axes>"
            ]
          },
          "metadata": {
            "needs_background": "light"
          }
        }
      ]
    },
    {
      "cell_type": "code",
      "metadata": {
        "colab": {
          "base_uri": "https://localhost:8080/"
        },
        "id": "h20sM10iwaza",
        "outputId": "0c826274-c70d-4098-ecfc-75036748ada8"
      },
      "source": [
        "digjit = {}\n",
        "digjit[\"images\"] = np.zeros_like(digpad[\"images\"])\n",
        "for i, (img, (jx, jy)) in enumerate(zip(digpad[\"images\"], jitter_xy)):\n",
        "  digjit[\"images\"][i] = my_translate(img, jx, jy)\n",
        "\n",
        "digjit[\"images\"].shape"
      ],
      "execution_count": 82,
      "outputs": [
        {
          "output_type": "execute_result",
          "data": {
            "text/plain": [
              "((1797, 15, 15), (15, 15))"
            ]
          },
          "metadata": {},
          "execution_count": 82
        }
      ]
    },
    {
      "cell_type": "code",
      "metadata": {
        "id": "fGKRRBp5lA1z",
        "outputId": "26f30a5e-7356-452a-d966-3f01ab497ec2",
        "colab": {
          "base_uri": "https://localhost:8080/"
        }
      },
      "source": [
        ""
      ],
      "execution_count": 92,
      "outputs": [
        {
          "output_type": "execute_result",
          "data": {
            "text/plain": [
              "array([   0.,  449.,  898., 1348., 1797.])"
            ]
          },
          "metadata": {},
          "execution_count": 92
        }
      ]
    },
    {
      "cell_type": "code",
      "metadata": {
        "colab": {
          "base_uri": "https://localhost:8080/",
          "height": 996
        },
        "id": "wGcNohNZvstZ",
        "outputId": "0fba462f-8ad0-4940-a3d1-79b858714509"
      },
      "source": [
        "for i in np.linspace(0, digjit[\"images\"].shape[0]-1, 5).astype(int):\n",
        "  print(f\"label = {digits.target[i]}, jitter = {jitter_xy[i]}\")\n",
        "  plot_side(digpad[\"images\"][i], digjit[\"images\"][i], \"pad\", \"jit\")\n",
        "  plt.show()"
      ],
      "execution_count": 96,
      "outputs": [
        {
          "output_type": "stream",
          "text": [
            "label = 0, jitter = [-3 -3]\n"
          ],
          "name": "stdout"
        },
        {
          "output_type": "display_data",
          "data": {
            "image/png": "[encoded data removed]",
            "text/plain": [
              "<Figure size 360x360 with 4 Axes>"
            ]
          },
          "metadata": {
            "needs_background": "light"
          }
        },
        {
          "output_type": "stream",
          "text": [
            "label = 3, jitter = [-2  2]\n"
          ],
          "name": "stdout"
        },
        {
          "output_type": "display_data",
          "data": {
            "image/png": "[encoded data removed]",
            "text/plain": [
              "<Figure size 360x360 with 4 Axes>"
            ]
          },
          "metadata": {
            "needs_background": "light"
          }
        },
        {
          "output_type": "stream",
          "text": [
            "label = 8, jitter = [ 0 -1]\n"
          ],
          "name": "stdout"
        },
        {
          "output_type": "display_data",
          "data": {
            "image/png": "[encoded data removed]",
            "text/plain": [
              "<Figure size 360x360 with 4 Axes>"
            ]
          },
          "metadata": {
            "needs_background": "light"
          }
        },
        {
          "output_type": "stream",
          "text": [
            "label = 3, jitter = [ 2 -1]\n"
          ],
          "name": "stdout"
        },
        {
          "output_type": "display_data",
          "data": {
            "image/png": "[encoded data removed]",
            "text/plain": [
              "<Figure size 360x360 with 4 Axes>"
            ]
          },
          "metadata": {
            "needs_background": "light"
          }
        },
        {
          "output_type": "stream",
          "text": [
            "label = 8, jitter = [3 2]\n"
          ],
          "name": "stdout"
        },
        {
          "output_type": "display_data",
          "data": {
            "image/png": "[encoded data removed]",
            "text/plain": [
              "<Figure size 360x360 with 4 Axes>"
            ]
          },
          "metadata": {
            "needs_background": "light"
          }
        }
      ]
    },
    {
      "cell_type": "code",
      "metadata": {
        "id": "1gY00JCJlg-u",
        "outputId": "ec869b55-2e40-4d1d-abad-6baeab6626f0",
        "colab": {
          "base_uri": "https://localhost:8080/"
        }
      },
      "source": [
        "digits.images.shape"
      ],
      "execution_count": 101,
      "outputs": [
        {
          "output_type": "execute_result",
          "data": {
            "text/plain": [
              "(1797, 8, 8)"
            ]
          },
          "metadata": {},
          "execution_count": 101
        }
      ]
    },
    {
      "cell_type": "code",
      "metadata": {
        "id": "bxs89b5O7iF8"
      },
      "source": [
        "def im2data(digxxx_img):\n",
        "  #return np.vstack([img.reshape((-1,1)).squeeze() for img in digxxx_img])\n",
        "  return digxxx_img.reshape((-1, digxxx_img.shape[1]*digxxx_img.shape[2], 1)).squeeze()\n",
        "  \n",
        "digjit[\"data\"] = im2data(digjit[\"images\"])\n",
        "assert digjit[\"data\"].shape == (1797, 225)\n",
        "\n",
        "digpad[\"data\"] = im2data(digpad[\"images\"])\n",
        "assert digpad[\"data\"].shape == (1797, 225)"
      ],
      "execution_count": 109,
      "outputs": []
    },
    {
      "cell_type": "code",
      "metadata": {
        "id": "1U1Kl4WOmMn0"
      },
      "source": [
        "# util to save to csv\n",
        "def my_savetxt(a, fn_csv):\n",
        "  print(\"\")\n",
        "  !rm -rf \"$fn_csv\" \"{fn_csv}.gz\"\n",
        "  np.savetxt(fn_csv, a.astype(int), delimiter=\",\", fmt=\"%i\")\n",
        "\n",
        "  !du -sh \"$fn_csv\"\n",
        "  !wc -l \"$fn_csv\"\n",
        "  !head -n3 \"$fn_csv\"\n",
        "  !echo \"...\"\n",
        "  !tail -n3 \"$fn_csv\"\n",
        "\n",
        "  !gzip \"$fn_csv\"\n",
        "  !du -sh \"{fn_csv}.gz\""
      ],
      "execution_count": 112,
      "outputs": []
    },
    {
      "cell_type": "code",
      "metadata": {
        "colab": {
          "base_uri": "https://localhost:8080/"
        },
        "id": "ZhVmu-EsZrpu",
        "outputId": "7f3af05c-eada-49c3-ed72-c98840adb7f7"
      },
      "source": [
        "# save to csv, like the sklearn format at https://github.com/scikit-learn/scikit-learn/tree/main/sklearn/datasets/data\n",
        "my_savetxt(digjit[\"data\"], \"digits_jitter.csv\")\n",
        "\n",
        "# Also save the padded version (without the jitter)\n",
        "my_savetxt(digpad[\"data\"], \"digits_padded.csv\")\n",
        "\n",
        "# and the jitter values\n",
        "my_savetxt(jitter_xy, \"jitter_xy.csv\")"
      ],
      "execution_count": 113,
      "outputs": [
        {
          "output_type": "stream",
          "text": [
            "\n",
            "824K\tdigits_jitter.csv\n",
            "1797 digits_jitter.csv\n",
            "0,0,0,0,0,0,0,0,0,0,0,0,0,0,0,0,0,0,0,0,0,0,0,0,0,0,0,0,0,0,0,0,0,0,0,0,0,0,0,0,0,0,0,0,0,0,0,0,0,0,0,0,0,0,0,0,0,0,0,0,0,0,0,0,0,0,0,0,0,0,0,0,0,0,0,0,0,0,0,0,0,0,0,0,0,0,0,0,0,0,0,0,0,0,0,0,0,0,5,13,9,1,0,0,0,0,0,0,0,0,0,0,0,13,15,10,15,5,0,0,0,0,0,0,0,0,0,3,15,2,0,11,8,0,0,0,0,0,0,0,0,0,4,12,0,0,8,8,0,0,0,0,0,0,0,0,0,5,8,0,0,9,8,0,0,0,0,0,0,0,0,0,4,11,0,1,12,7,0,0,0,0,0,0,0,0,0,2,14,5,10,12,0,0,0,0,0,0,0,0,0,0,0,6,13,10,0,0,0,0,0,0,0,0,0,0,0,0,0,0,0,0,0,0,0\n",
            "0,0,0,12,13,5,0,0,0,0,0,0,0,0,0,0,0,0,11,16,9,0,0,0,0,0,0,0,0,0,0,0,3,15,16,6,0,0,0,0,0,0,0,0,0,0,7,15,16,16,2,0,0,0,0,0,0,0,0,0,0,0,1,16,16,3,0,0,0,0,0,0,0,0,0,0,0,1,16,16,6,0,0,0,0,0,0,0,0,0,0,0,1,16,16,6,0,0,0,0,0,0,0,0,0,0,0,0,11,16,10,0,0,0,0,0,0,0,0,0,0,0,0,0,0,0,0,0,0,0,0,0,0,0,0,0,0,0,0,0,0,0,0,0,0,0,0,0,0,0,0,0,0,0,0,0,0,0,0,0,0,0,0,0,0,0,0,0,0,0,0,0,0,0,0,0,0,0,0,0,0,0,0,0,0,0,0,0,0,0,0,0,0,0,0,0,0,0,0,0,0,0,0,0,0,0,0,0,0,0,0,0,0,0,0,0,0,0,0,0,0,0,0,0,0\n",
            "0,0,0,0,0,0,0,0,0,0,0,0,0,0,0,0,0,0,0,0,0,0,0,0,0,0,0,0,0,0,0,0,0,0,0,0,0,0,0,0,0,0,0,0,0,0,0,0,0,0,0,0,0,0,0,0,0,0,0,0,0,0,0,0,0,0,0,0,0,0,0,0,0,0,0,0,0,0,0,0,0,0,0,0,0,0,0,0,0,0,0,0,0,0,0,0,0,0,0,4,15,12,0,0,0,0,0,0,0,0,0,0,0,3,16,15,14,0,0,0,0,0,0,0,0,0,0,0,8,13,8,16,0,0,0,0,0,0,0,0,0,0,0,1,6,15,11,0,0,0,0,0,0,0,0,0,0,1,8,13,15,1,0,0,0,0,0,0,0,0,0,0,9,16,16,5,0,0,0,0,0,0,0,0,0,0,0,3,13,16,16,11,5,0,0,0,0,0,0,0,0,0,0,0,3,11,16,9,0,0,0,0,0,0,0,0,0,0,0,0,0,0,0,0,0\n",
            "...\n",
            "0,0,0,0,0,0,0,0,0,0,0,0,0,0,0,0,0,1,11,15,1,0,0,0,0,0,0,0,0,0,0,0,13,16,8,2,1,0,0,0,0,0,0,0,0,0,0,16,15,10,16,5,0,0,0,0,0,0,0,0,0,0,8,16,16,7,0,0,0,0,0,0,0,0,0,0,0,9,16,16,4,0,0,0,0,0,0,0,0,0,0,0,16,14,16,15,0,0,0,0,0,0,0,0,0,0,0,15,15,15,16,0,0,0,0,0,0,0,0,0,0,0,2,9,13,6,0,0,0,0,0,0,0,0,0,0,0,0,0,0,0,0,0,0,0,0,0,0,0,0,0,0,0,0,0,0,0,0,0,0,0,0,0,0,0,0,0,0,0,0,0,0,0,0,0,0,0,0,0,0,0,0,0,0,0,0,0,0,0,0,0,0,0,0,0,0,0,0,0,0,0,0,0,0,0,0,0,0,0,0,0,0,0,0,0,0,0,0,0,0,0,0,0,0,0\n",
            "0,0,2,10,7,0,0,0,0,0,0,0,0,0,0,0,0,14,16,16,15,1,0,0,0,0,0,0,0,0,0,4,16,7,3,16,7,0,0,0,0,0,0,0,0,0,5,16,10,7,16,4,0,0,0,0,0,0,0,0,0,0,5,14,14,16,4,0,0,0,0,0,0,0,0,0,0,0,0,0,16,2,0,0,0,0,0,0,0,0,0,0,4,7,7,16,2,0,0,0,0,0,0,0,0,0,0,5,12,16,12,0,0,0,0,0,0,0,0,0,0,0,0,0,0,0,0,0,0,0,0,0,0,0,0,0,0,0,0,0,0,0,0,0,0,0,0,0,0,0,0,0,0,0,0,0,0,0,0,0,0,0,0,0,0,0,0,0,0,0,0,0,0,0,0,0,0,0,0,0,0,0,0,0,0,0,0,0,0,0,0,0,0,0,0,0,0,0,0,0,0,0,0,0,0,0,0,0,0,0,0,0,0,0,0,0,0,0,0,0,0,0,0,0,0\n",
            "0,0,0,0,0,0,0,0,0,0,0,0,0,0,0,0,0,10,14,8,1,0,0,0,0,0,0,0,0,0,0,2,16,14,6,1,0,0,0,0,0,0,0,0,0,0,0,15,15,8,15,0,0,0,0,0,0,0,0,0,0,0,5,16,16,10,0,0,0,0,0,0,0,0,0,0,0,12,15,15,12,0,0,0,0,0,0,0,0,0,0,4,16,6,4,16,6,0,0,0,0,0,0,0,0,0,8,16,10,8,16,8,0,0,0,0,0,0,0,0,0,1,8,12,14,12,1,0,0,0,0,0,0,0,0,0,0,0,0,0,0,0,0,0,0,0,0,0,0,0,0,0,0,0,0,0,0,0,0,0,0,0,0,0,0,0,0,0,0,0,0,0,0,0,0,0,0,0,0,0,0,0,0,0,0,0,0,0,0,0,0,0,0,0,0,0,0,0,0,0,0,0,0,0,0,0,0,0,0,0,0,0,0,0,0,0,0,0,0,0,0,0,0,0,0\n",
            "72K\tdigits_jitter.csv.gz\n",
            "\n",
            "824K\tdigits_padded.csv\n",
            "1797 digits_padded.csv\n",
            "0,0,0,0,0,0,0,0,0,0,0,0,0,0,0,0,0,0,0,0,0,0,0,0,0,0,0,0,0,0,0,0,0,0,0,0,0,0,0,0,0,0,0,0,0,0,0,0,0,0,5,13,9,1,0,0,0,0,0,0,0,0,0,0,0,13,15,10,15,5,0,0,0,0,0,0,0,0,0,3,15,2,0,11,8,0,0,0,0,0,0,0,0,0,4,12,0,0,8,8,0,0,0,0,0,0,0,0,0,5,8,0,0,9,8,0,0,0,0,0,0,0,0,0,4,11,0,1,12,7,0,0,0,0,0,0,0,0,0,2,14,5,10,12,0,0,0,0,0,0,0,0,0,0,0,6,13,10,0,0,0,0,0,0,0,0,0,0,0,0,0,0,0,0,0,0,0,0,0,0,0,0,0,0,0,0,0,0,0,0,0,0,0,0,0,0,0,0,0,0,0,0,0,0,0,0,0,0,0,0,0,0,0,0,0,0,0,0,0,0,0,0,0,0,0\n",
            "0,0,0,0,0,0,0,0,0,0,0,0,0,0,0,0,0,0,0,0,0,0,0,0,0,0,0,0,0,0,0,0,0,0,0,0,0,0,0,0,0,0,0,0,0,0,0,0,0,0,0,12,13,5,0,0,0,0,0,0,0,0,0,0,0,0,11,16,9,0,0,0,0,0,0,0,0,0,0,0,3,15,16,6,0,0,0,0,0,0,0,0,0,0,7,15,16,16,2,0,0,0,0,0,0,0,0,0,0,0,1,16,16,3,0,0,0,0,0,0,0,0,0,0,0,1,16,16,6,0,0,0,0,0,0,0,0,0,0,0,1,16,16,6,0,0,0,0,0,0,0,0,0,0,0,0,11,16,10,0,0,0,0,0,0,0,0,0,0,0,0,0,0,0,0,0,0,0,0,0,0,0,0,0,0,0,0,0,0,0,0,0,0,0,0,0,0,0,0,0,0,0,0,0,0,0,0,0,0,0,0,0,0,0,0,0,0,0,0,0,0,0,0,0,0\n",
            "0,0,0,0,0,0,0,0,0,0,0,0,0,0,0,0,0,0,0,0,0,0,0,0,0,0,0,0,0,0,0,0,0,0,0,0,0,0,0,0,0,0,0,0,0,0,0,0,0,0,0,4,15,12,0,0,0,0,0,0,0,0,0,0,0,3,16,15,14,0,0,0,0,0,0,0,0,0,0,0,8,13,8,16,0,0,0,0,0,0,0,0,0,0,0,1,6,15,11,0,0,0,0,0,0,0,0,0,0,1,8,13,15,1,0,0,0,0,0,0,0,0,0,0,9,16,16,5,0,0,0,0,0,0,0,0,0,0,0,3,13,16,16,11,5,0,0,0,0,0,0,0,0,0,0,0,3,11,16,9,0,0,0,0,0,0,0,0,0,0,0,0,0,0,0,0,0,0,0,0,0,0,0,0,0,0,0,0,0,0,0,0,0,0,0,0,0,0,0,0,0,0,0,0,0,0,0,0,0,0,0,0,0,0,0,0,0,0,0,0,0,0,0,0,0\n",
            "...\n",
            "0,0,0,0,0,0,0,0,0,0,0,0,0,0,0,0,0,0,0,0,0,0,0,0,0,0,0,0,0,0,0,0,0,0,0,0,0,0,0,0,0,0,0,0,0,0,0,0,0,0,1,11,15,1,0,0,0,0,0,0,0,0,0,0,0,13,16,8,2,1,0,0,0,0,0,0,0,0,0,0,16,15,10,16,5,0,0,0,0,0,0,0,0,0,0,8,16,16,7,0,0,0,0,0,0,0,0,0,0,0,9,16,16,4,0,0,0,0,0,0,0,0,0,0,0,16,14,16,15,0,0,0,0,0,0,0,0,0,0,0,15,15,15,16,0,0,0,0,0,0,0,0,0,0,0,2,9,13,6,0,0,0,0,0,0,0,0,0,0,0,0,0,0,0,0,0,0,0,0,0,0,0,0,0,0,0,0,0,0,0,0,0,0,0,0,0,0,0,0,0,0,0,0,0,0,0,0,0,0,0,0,0,0,0,0,0,0,0,0,0,0,0,0,0,0\n",
            "0,0,0,0,0,0,0,0,0,0,0,0,0,0,0,0,0,0,0,0,0,0,0,0,0,0,0,0,0,0,0,0,0,0,0,0,0,0,0,0,0,0,0,0,0,0,0,0,0,0,2,10,7,0,0,0,0,0,0,0,0,0,0,0,0,14,16,16,15,1,0,0,0,0,0,0,0,0,0,4,16,7,3,16,7,0,0,0,0,0,0,0,0,0,5,16,10,7,16,4,0,0,0,0,0,0,0,0,0,0,5,14,14,16,4,0,0,0,0,0,0,0,0,0,0,0,0,0,16,2,0,0,0,0,0,0,0,0,0,0,4,7,7,16,2,0,0,0,0,0,0,0,0,0,0,5,12,16,12,0,0,0,0,0,0,0,0,0,0,0,0,0,0,0,0,0,0,0,0,0,0,0,0,0,0,0,0,0,0,0,0,0,0,0,0,0,0,0,0,0,0,0,0,0,0,0,0,0,0,0,0,0,0,0,0,0,0,0,0,0,0,0,0,0,0\n",
            "0,0,0,0,0,0,0,0,0,0,0,0,0,0,0,0,0,0,0,0,0,0,0,0,0,0,0,0,0,0,0,0,0,0,0,0,0,0,0,0,0,0,0,0,0,0,0,0,0,0,10,14,8,1,0,0,0,0,0,0,0,0,0,0,2,16,14,6,1,0,0,0,0,0,0,0,0,0,0,0,15,15,8,15,0,0,0,0,0,0,0,0,0,0,0,5,16,16,10,0,0,0,0,0,0,0,0,0,0,0,12,15,15,12,0,0,0,0,0,0,0,0,0,0,4,16,6,4,16,6,0,0,0,0,0,0,0,0,0,8,16,10,8,16,8,0,0,0,0,0,0,0,0,0,1,8,12,14,12,1,0,0,0,0,0,0,0,0,0,0,0,0,0,0,0,0,0,0,0,0,0,0,0,0,0,0,0,0,0,0,0,0,0,0,0,0,0,0,0,0,0,0,0,0,0,0,0,0,0,0,0,0,0,0,0,0,0,0,0,0,0,0,0,0,0\n",
            "68K\tdigits_padded.csv.gz\n",
            "\n",
            "12K\tjitter_xy.csv\n",
            "1797 jitter_xy.csv\n",
            "-3,-3\n",
            "3,3\n",
            "-3,-3\n",
            "...\n",
            "3,2\n",
            "3,3\n",
            "3,2\n",
            "4.0K\tjitter_xy.csv.gz\n"
          ],
          "name": "stdout"
        }
      ]
    }
  ]
}